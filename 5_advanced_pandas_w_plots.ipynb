{
 "cells": [
  {
   "cell_type": "markdown",
   "id": "07669e37",
   "metadata": {},
   "source": [
    "# Week 5: Advanced Pandas  & basic plotting"
   ]
  },
  {
   "cell_type": "code",
   "execution_count": 29,
   "id": "0d7a6340",
   "metadata": {},
   "outputs": [
    {
     "name": "stdout",
     "output_type": "stream",
     "text": [
      "Requirement already satisfied: opendatasets in c:\\users\\namro\\appdata\\local\\packages\\pythonsoftwarefoundation.python.3.11_qbz5n2kfra8p0\\localcache\\local-packages\\python311\\site-packages (0.1.22)\n",
      "Requirement already satisfied: tqdm in c:\\users\\namro\\appdata\\local\\packages\\pythonsoftwarefoundation.python.3.11_qbz5n2kfra8p0\\localcache\\local-packages\\python311\\site-packages (from opendatasets) (4.67.1)\n",
      "Requirement already satisfied: kaggle in c:\\users\\namro\\appdata\\local\\packages\\pythonsoftwarefoundation.python.3.11_qbz5n2kfra8p0\\localcache\\local-packages\\python311\\site-packages (from opendatasets) (1.7.4.5)\n",
      "Requirement already satisfied: click in c:\\users\\namro\\appdata\\local\\packages\\pythonsoftwarefoundation.python.3.11_qbz5n2kfra8p0\\localcache\\local-packages\\python311\\site-packages (from opendatasets) (8.2.1)\n",
      "Requirement already satisfied: colorama in c:\\users\\namro\\appdata\\local\\packages\\pythonsoftwarefoundation.python.3.11_qbz5n2kfra8p0\\localcache\\local-packages\\python311\\site-packages (from click->opendatasets) (0.4.6)\n",
      "Requirement already satisfied: bleach in c:\\users\\namro\\appdata\\local\\packages\\pythonsoftwarefoundation.python.3.11_qbz5n2kfra8p0\\localcache\\local-packages\\python311\\site-packages (from kaggle->opendatasets) (6.2.0)\n",
      "Requirement already satisfied: certifi>=14.05.14 in c:\\users\\namro\\appdata\\local\\packages\\pythonsoftwarefoundation.python.3.11_qbz5n2kfra8p0\\localcache\\local-packages\\python311\\site-packages (from kaggle->opendatasets) (2024.12.14)\n",
      "Requirement already satisfied: charset-normalizer in c:\\users\\namro\\appdata\\local\\packages\\pythonsoftwarefoundation.python.3.11_qbz5n2kfra8p0\\localcache\\local-packages\\python311\\site-packages (from kaggle->opendatasets) (3.4.1)\n",
      "Requirement already satisfied: idna in c:\\users\\namro\\appdata\\local\\packages\\pythonsoftwarefoundation.python.3.11_qbz5n2kfra8p0\\localcache\\local-packages\\python311\\site-packages (from kaggle->opendatasets) (3.10)\n",
      "Requirement already satisfied: protobuf in c:\\users\\namro\\appdata\\local\\packages\\pythonsoftwarefoundation.python.3.11_qbz5n2kfra8p0\\localcache\\local-packages\\python311\\site-packages (from kaggle->opendatasets) (5.29.3)\n",
      "Requirement already satisfied: python-dateutil>=2.5.3 in c:\\users\\namro\\appdata\\local\\packages\\pythonsoftwarefoundation.python.3.11_qbz5n2kfra8p0\\localcache\\local-packages\\python311\\site-packages (from kaggle->opendatasets) (2.9.0.post0)\n",
      "Requirement already satisfied: python-slugify in c:\\users\\namro\\appdata\\local\\packages\\pythonsoftwarefoundation.python.3.11_qbz5n2kfra8p0\\localcache\\local-packages\\python311\\site-packages (from kaggle->opendatasets) (8.0.4)\n",
      "Requirement already satisfied: requests in c:\\users\\namro\\appdata\\local\\packages\\pythonsoftwarefoundation.python.3.11_qbz5n2kfra8p0\\localcache\\local-packages\\python311\\site-packages (from kaggle->opendatasets) (2.32.3)\n",
      "Requirement already satisfied: setuptools>=21.0.0 in c:\\program files\\windowsapps\\pythonsoftwarefoundation.python.3.11_3.11.2544.0_x64__qbz5n2kfra8p0\\lib\\site-packages (from kaggle->opendatasets) (65.5.0)\n",
      "Requirement already satisfied: six>=1.10 in c:\\users\\namro\\appdata\\local\\packages\\pythonsoftwarefoundation.python.3.11_qbz5n2kfra8p0\\localcache\\local-packages\\python311\\site-packages (from kaggle->opendatasets) (1.16.0)\n",
      "Requirement already satisfied: text-unidecode in c:\\users\\namro\\appdata\\local\\packages\\pythonsoftwarefoundation.python.3.11_qbz5n2kfra8p0\\localcache\\local-packages\\python311\\site-packages (from kaggle->opendatasets) (1.3)\n",
      "Requirement already satisfied: urllib3>=1.15.1 in c:\\users\\namro\\appdata\\local\\packages\\pythonsoftwarefoundation.python.3.11_qbz5n2kfra8p0\\localcache\\local-packages\\python311\\site-packages (from kaggle->opendatasets) (2.3.0)\n",
      "Requirement already satisfied: webencodings in c:\\users\\namro\\appdata\\local\\packages\\pythonsoftwarefoundation.python.3.11_qbz5n2kfra8p0\\localcache\\local-packages\\python311\\site-packages (from kaggle->opendatasets) (0.5.1)\n"
     ]
    },
    {
     "name": "stderr",
     "output_type": "stream",
     "text": [
      "\n",
      "[notice] A new release of pip is available: 24.0 -> 25.1.1\n",
      "[notice] To update, run: C:\\Users\\namro\\AppData\\Local\\Microsoft\\WindowsApps\\PythonSoftwareFoundation.Python.3.11_qbz5n2kfra8p0\\python.exe -m pip install --upgrade pip\n"
     ]
    },
    {
     "name": "stdout",
     "output_type": "stream",
     "text": [
      "Requirement already satisfied: pandas in c:\\users\\namro\\appdata\\local\\packages\\pythonsoftwarefoundation.python.3.11_qbz5n2kfra8p0\\localcache\\local-packages\\python311\\site-packages (2.2.3)\n",
      "Requirement already satisfied: numpy>=1.23.2 in c:\\users\\namro\\appdata\\local\\packages\\pythonsoftwarefoundation.python.3.11_qbz5n2kfra8p0\\localcache\\local-packages\\python311\\site-packages (from pandas) (2.0.2)\n",
      "Requirement already satisfied: python-dateutil>=2.8.2 in c:\\users\\namro\\appdata\\local\\packages\\pythonsoftwarefoundation.python.3.11_qbz5n2kfra8p0\\localcache\\local-packages\\python311\\site-packages (from pandas) (2.9.0.post0)\n",
      "Requirement already satisfied: pytz>=2020.1 in c:\\users\\namro\\appdata\\local\\packages\\pythonsoftwarefoundation.python.3.11_qbz5n2kfra8p0\\localcache\\local-packages\\python311\\site-packages (from pandas) (2025.2)\n",
      "Requirement already satisfied: tzdata>=2022.7 in c:\\users\\namro\\appdata\\local\\packages\\pythonsoftwarefoundation.python.3.11_qbz5n2kfra8p0\\localcache\\local-packages\\python311\\site-packages (from pandas) (2025.2)\n",
      "Requirement already satisfied: six>=1.5 in c:\\users\\namro\\appdata\\local\\packages\\pythonsoftwarefoundation.python.3.11_qbz5n2kfra8p0\\localcache\\local-packages\\python311\\site-packages (from python-dateutil>=2.8.2->pandas) (1.16.0)\n"
     ]
    },
    {
     "name": "stderr",
     "output_type": "stream",
     "text": [
      "\n",
      "[notice] A new release of pip is available: 24.0 -> 25.1.1\n",
      "[notice] To update, run: C:\\Users\\namro\\AppData\\Local\\Microsoft\\WindowsApps\\PythonSoftwareFoundation.Python.3.11_qbz5n2kfra8p0\\python.exe -m pip install --upgrade pip\n"
     ]
    }
   ],
   "source": [
    "!pip install opendatasets\n",
    "!pip install pandas"
   ]
  },
  {
   "cell_type": "markdown",
   "id": "71e576b8",
   "metadata": {},
   "source": [
    "## Load Dataset and Inspect"
   ]
  },
  {
   "cell_type": "code",
   "execution_count": 30,
   "id": "f6d05c2f",
   "metadata": {},
   "outputs": [
    {
     "name": "stdout",
     "output_type": "stream",
     "text": [
      "Skipping, found downloaded files in \".\\smart-home-energy-consumption\" (use force=True to force download)\n"
     ]
    }
   ],
   "source": [
    "import opendatasets as od\n",
    "import pandas as pd\n",
    "od.download(\"https://www.kaggle.com/datasets/mexwell/smart-home-energy-consumption\")"
   ]
  },
  {
   "cell_type": "code",
   "execution_count": 31,
   "id": "83d4626d",
   "metadata": {},
   "outputs": [
    {
     "data": {
      "text/html": [
       "<div>\n",
       "<style scoped>\n",
       "    .dataframe tbody tr th:only-of-type {\n",
       "        vertical-align: middle;\n",
       "    }\n",
       "\n",
       "    .dataframe tbody tr th {\n",
       "        vertical-align: top;\n",
       "    }\n",
       "\n",
       "    .dataframe thead th {\n",
       "        text-align: right;\n",
       "    }\n",
       "</style>\n",
       "<table border=\"1\" class=\"dataframe\">\n",
       "  <thead>\n",
       "    <tr style=\"text-align: right;\">\n",
       "      <th></th>\n",
       "      <th>Home ID</th>\n",
       "      <th>Appliance Type</th>\n",
       "      <th>Energy Consumption (kWh)</th>\n",
       "      <th>Time</th>\n",
       "      <th>Date</th>\n",
       "      <th>Outdoor Temperature (°C)</th>\n",
       "      <th>Season</th>\n",
       "      <th>Household Size</th>\n",
       "    </tr>\n",
       "  </thead>\n",
       "  <tbody>\n",
       "    <tr>\n",
       "      <th>0</th>\n",
       "      <td>94</td>\n",
       "      <td>Fridge</td>\n",
       "      <td>0.20</td>\n",
       "      <td>21:12</td>\n",
       "      <td>2023-12-02</td>\n",
       "      <td>-1.0</td>\n",
       "      <td>Fall</td>\n",
       "      <td>2</td>\n",
       "    </tr>\n",
       "    <tr>\n",
       "      <th>1</th>\n",
       "      <td>435</td>\n",
       "      <td>Oven</td>\n",
       "      <td>0.23</td>\n",
       "      <td>20:11</td>\n",
       "      <td>2023-08-06</td>\n",
       "      <td>31.1</td>\n",
       "      <td>Summer</td>\n",
       "      <td>5</td>\n",
       "    </tr>\n",
       "    <tr>\n",
       "      <th>2</th>\n",
       "      <td>466</td>\n",
       "      <td>Dishwasher</td>\n",
       "      <td>0.32</td>\n",
       "      <td>06:39</td>\n",
       "      <td>2023-11-21</td>\n",
       "      <td>21.3</td>\n",
       "      <td>Fall</td>\n",
       "      <td>3</td>\n",
       "    </tr>\n",
       "    <tr>\n",
       "      <th>3</th>\n",
       "      <td>496</td>\n",
       "      <td>Heater</td>\n",
       "      <td>3.92</td>\n",
       "      <td>21:56</td>\n",
       "      <td>2023-01-21</td>\n",
       "      <td>-4.2</td>\n",
       "      <td>Winter</td>\n",
       "      <td>1</td>\n",
       "    </tr>\n",
       "    <tr>\n",
       "      <th>4</th>\n",
       "      <td>137</td>\n",
       "      <td>Microwave</td>\n",
       "      <td>0.44</td>\n",
       "      <td>04:31</td>\n",
       "      <td>2023-08-26</td>\n",
       "      <td>34.5</td>\n",
       "      <td>Summer</td>\n",
       "      <td>5</td>\n",
       "    </tr>\n",
       "  </tbody>\n",
       "</table>\n",
       "</div>"
      ],
      "text/plain": [
       "   Home ID Appliance Type  Energy Consumption (kWh)   Time        Date  \\\n",
       "0       94         Fridge                      0.20  21:12  2023-12-02   \n",
       "1      435           Oven                      0.23  20:11  2023-08-06   \n",
       "2      466     Dishwasher                      0.32  06:39  2023-11-21   \n",
       "3      496         Heater                      3.92  21:56  2023-01-21   \n",
       "4      137      Microwave                      0.44  04:31  2023-08-26   \n",
       "\n",
       "   Outdoor Temperature (°C)  Season  Household Size  \n",
       "0                      -1.0    Fall               2  \n",
       "1                      31.1  Summer               5  \n",
       "2                      21.3    Fall               3  \n",
       "3                      -4.2  Winter               1  \n",
       "4                      34.5  Summer               5  "
      ]
     },
     "execution_count": 31,
     "metadata": {},
     "output_type": "execute_result"
    }
   ],
   "source": [
    "df = pd.read_csv(\"smart-home-energy-consumption/smart_home_energy_consumption_large.csv\")\n",
    "df.head()"
   ]
  },
  {
   "cell_type": "code",
   "execution_count": 32,
   "id": "ec5df10b",
   "metadata": {},
   "outputs": [
    {
     "data": {
      "text/plain": [
       "(100000, 8)"
      ]
     },
     "execution_count": 32,
     "metadata": {},
     "output_type": "execute_result"
    }
   ],
   "source": [
    "df.shape"
   ]
  },
  {
   "cell_type": "code",
   "execution_count": 33,
   "id": "de0e613d",
   "metadata": {},
   "outputs": [
    {
     "name": "stdout",
     "output_type": "stream",
     "text": [
      "<class 'pandas.core.frame.DataFrame'>\n",
      "RangeIndex: 100000 entries, 0 to 99999\n",
      "Data columns (total 8 columns):\n",
      " #   Column                    Non-Null Count   Dtype  \n",
      "---  ------                    --------------   -----  \n",
      " 0   Home ID                   100000 non-null  int64  \n",
      " 1   Appliance Type            100000 non-null  object \n",
      " 2   Energy Consumption (kWh)  100000 non-null  float64\n",
      " 3   Time                      100000 non-null  object \n",
      " 4   Date                      100000 non-null  object \n",
      " 5   Outdoor Temperature (°C)  100000 non-null  float64\n",
      " 6   Season                    100000 non-null  object \n",
      " 7   Household Size            100000 non-null  int64  \n",
      "dtypes: float64(2), int64(2), object(4)\n",
      "memory usage: 6.1+ MB\n"
     ]
    }
   ],
   "source": [
    "df.info()"
   ]
  },
  {
   "cell_type": "code",
   "execution_count": 34,
   "id": "71458aba",
   "metadata": {},
   "outputs": [
    {
     "data": {
      "text/plain": [
       "Home ID                     0\n",
       "Appliance Type              0\n",
       "Energy Consumption (kWh)    0\n",
       "Time                        0\n",
       "Date                        0\n",
       "Outdoor Temperature (°C)    0\n",
       "Season                      0\n",
       "Household Size              0\n",
       "dtype: int64"
      ]
     },
     "execution_count": 34,
     "metadata": {},
     "output_type": "execute_result"
    }
   ],
   "source": [
    "df.isnull().sum()"
   ]
  },
  {
   "cell_type": "markdown",
   "id": "ca4a78fb",
   "metadata": {},
   "source": [
    "## Convert Timestamp to DateTime Format"
   ]
  },
  {
   "cell_type": "code",
   "execution_count": 35,
   "id": "8ba189d6",
   "metadata": {},
   "outputs": [
    {
     "data": {
      "text/plain": [
       "Home ID                              int64\n",
       "Appliance Type                      object\n",
       "Energy Consumption (kWh)           float64\n",
       "Time                                object\n",
       "Date                                object\n",
       "Outdoor Temperature (°C)           float64\n",
       "Season                              object\n",
       "Household Size                       int64\n",
       "Timestamp                   datetime64[ns]\n",
       "dtype: object"
      ]
     },
     "execution_count": 35,
     "metadata": {},
     "output_type": "execute_result"
    }
   ],
   "source": [
    "df['Timestamp'] = pd.to_datetime(df['Date'] + ' ' + df['Time'])\n",
    "\n",
    "df.dtypes"
   ]
  },
  {
   "cell_type": "code",
   "execution_count": 36,
   "id": "6def723f",
   "metadata": {},
   "outputs": [
    {
     "data": {
      "text/html": [
       "<div>\n",
       "<style scoped>\n",
       "    .dataframe tbody tr th:only-of-type {\n",
       "        vertical-align: middle;\n",
       "    }\n",
       "\n",
       "    .dataframe tbody tr th {\n",
       "        vertical-align: top;\n",
       "    }\n",
       "\n",
       "    .dataframe thead th {\n",
       "        text-align: right;\n",
       "    }\n",
       "</style>\n",
       "<table border=\"1\" class=\"dataframe\">\n",
       "  <thead>\n",
       "    <tr style=\"text-align: right;\">\n",
       "      <th></th>\n",
       "      <th>Home ID</th>\n",
       "      <th>Appliance Type</th>\n",
       "      <th>Energy Consumption (kWh)</th>\n",
       "      <th>Time</th>\n",
       "      <th>Date</th>\n",
       "      <th>Outdoor Temperature (°C)</th>\n",
       "      <th>Season</th>\n",
       "      <th>Household Size</th>\n",
       "      <th>Timestamp</th>\n",
       "    </tr>\n",
       "  </thead>\n",
       "  <tbody>\n",
       "    <tr>\n",
       "      <th>0</th>\n",
       "      <td>94</td>\n",
       "      <td>Fridge</td>\n",
       "      <td>0.20</td>\n",
       "      <td>21:12</td>\n",
       "      <td>2023-12-02</td>\n",
       "      <td>-1.0</td>\n",
       "      <td>Fall</td>\n",
       "      <td>2</td>\n",
       "      <td>2023-12-02 21:12:00</td>\n",
       "    </tr>\n",
       "    <tr>\n",
       "      <th>1</th>\n",
       "      <td>435</td>\n",
       "      <td>Oven</td>\n",
       "      <td>0.23</td>\n",
       "      <td>20:11</td>\n",
       "      <td>2023-08-06</td>\n",
       "      <td>31.1</td>\n",
       "      <td>Summer</td>\n",
       "      <td>5</td>\n",
       "      <td>2023-08-06 20:11:00</td>\n",
       "    </tr>\n",
       "    <tr>\n",
       "      <th>2</th>\n",
       "      <td>466</td>\n",
       "      <td>Dishwasher</td>\n",
       "      <td>0.32</td>\n",
       "      <td>06:39</td>\n",
       "      <td>2023-11-21</td>\n",
       "      <td>21.3</td>\n",
       "      <td>Fall</td>\n",
       "      <td>3</td>\n",
       "      <td>2023-11-21 06:39:00</td>\n",
       "    </tr>\n",
       "    <tr>\n",
       "      <th>3</th>\n",
       "      <td>496</td>\n",
       "      <td>Heater</td>\n",
       "      <td>3.92</td>\n",
       "      <td>21:56</td>\n",
       "      <td>2023-01-21</td>\n",
       "      <td>-4.2</td>\n",
       "      <td>Winter</td>\n",
       "      <td>1</td>\n",
       "      <td>2023-01-21 21:56:00</td>\n",
       "    </tr>\n",
       "    <tr>\n",
       "      <th>4</th>\n",
       "      <td>137</td>\n",
       "      <td>Microwave</td>\n",
       "      <td>0.44</td>\n",
       "      <td>04:31</td>\n",
       "      <td>2023-08-26</td>\n",
       "      <td>34.5</td>\n",
       "      <td>Summer</td>\n",
       "      <td>5</td>\n",
       "      <td>2023-08-26 04:31:00</td>\n",
       "    </tr>\n",
       "  </tbody>\n",
       "</table>\n",
       "</div>"
      ],
      "text/plain": [
       "   Home ID Appliance Type  Energy Consumption (kWh)   Time        Date  \\\n",
       "0       94         Fridge                      0.20  21:12  2023-12-02   \n",
       "1      435           Oven                      0.23  20:11  2023-08-06   \n",
       "2      466     Dishwasher                      0.32  06:39  2023-11-21   \n",
       "3      496         Heater                      3.92  21:56  2023-01-21   \n",
       "4      137      Microwave                      0.44  04:31  2023-08-26   \n",
       "\n",
       "   Outdoor Temperature (°C)  Season  Household Size           Timestamp  \n",
       "0                      -1.0    Fall               2 2023-12-02 21:12:00  \n",
       "1                      31.1  Summer               5 2023-08-06 20:11:00  \n",
       "2                      21.3    Fall               3 2023-11-21 06:39:00  \n",
       "3                      -4.2  Winter               1 2023-01-21 21:56:00  \n",
       "4                      34.5  Summer               5 2023-08-26 04:31:00  "
      ]
     },
     "execution_count": 36,
     "metadata": {},
     "output_type": "execute_result"
    }
   ],
   "source": [
    "df.head()"
   ]
  },
  {
   "cell_type": "markdown",
   "id": "90577902",
   "metadata": {},
   "source": [
    "## Extract Day, Hour from Timestamp"
   ]
  },
  {
   "cell_type": "code",
   "execution_count": 37,
   "id": "b9f459ae",
   "metadata": {},
   "outputs": [
    {
     "data": {
      "text/html": [
       "<div>\n",
       "<style scoped>\n",
       "    .dataframe tbody tr th:only-of-type {\n",
       "        vertical-align: middle;\n",
       "    }\n",
       "\n",
       "    .dataframe tbody tr th {\n",
       "        vertical-align: top;\n",
       "    }\n",
       "\n",
       "    .dataframe thead th {\n",
       "        text-align: right;\n",
       "    }\n",
       "</style>\n",
       "<table border=\"1\" class=\"dataframe\">\n",
       "  <thead>\n",
       "    <tr style=\"text-align: right;\">\n",
       "      <th></th>\n",
       "      <th>Timestamp</th>\n",
       "      <th>day</th>\n",
       "      <th>hour</th>\n",
       "    </tr>\n",
       "  </thead>\n",
       "  <tbody>\n",
       "    <tr>\n",
       "      <th>0</th>\n",
       "      <td>2023-12-02 21:12:00</td>\n",
       "      <td>2</td>\n",
       "      <td>21</td>\n",
       "    </tr>\n",
       "    <tr>\n",
       "      <th>1</th>\n",
       "      <td>2023-08-06 20:11:00</td>\n",
       "      <td>6</td>\n",
       "      <td>20</td>\n",
       "    </tr>\n",
       "    <tr>\n",
       "      <th>2</th>\n",
       "      <td>2023-11-21 06:39:00</td>\n",
       "      <td>21</td>\n",
       "      <td>6</td>\n",
       "    </tr>\n",
       "    <tr>\n",
       "      <th>3</th>\n",
       "      <td>2023-01-21 21:56:00</td>\n",
       "      <td>21</td>\n",
       "      <td>21</td>\n",
       "    </tr>\n",
       "    <tr>\n",
       "      <th>4</th>\n",
       "      <td>2023-08-26 04:31:00</td>\n",
       "      <td>26</td>\n",
       "      <td>4</td>\n",
       "    </tr>\n",
       "    <tr>\n",
       "      <th>5</th>\n",
       "      <td>2023-05-06 11:36:00</td>\n",
       "      <td>6</td>\n",
       "      <td>11</td>\n",
       "    </tr>\n",
       "    <tr>\n",
       "      <th>6</th>\n",
       "      <td>2023-06-06 12:05:00</td>\n",
       "      <td>6</td>\n",
       "      <td>12</td>\n",
       "    </tr>\n",
       "    <tr>\n",
       "      <th>7</th>\n",
       "      <td>2023-12-12 03:34:00</td>\n",
       "      <td>12</td>\n",
       "      <td>3</td>\n",
       "    </tr>\n",
       "    <tr>\n",
       "      <th>8</th>\n",
       "      <td>2023-08-16 15:22:00</td>\n",
       "      <td>16</td>\n",
       "      <td>15</td>\n",
       "    </tr>\n",
       "    <tr>\n",
       "      <th>9</th>\n",
       "      <td>2023-09-19 16:32:00</td>\n",
       "      <td>19</td>\n",
       "      <td>16</td>\n",
       "    </tr>\n",
       "  </tbody>\n",
       "</table>\n",
       "</div>"
      ],
      "text/plain": [
       "            Timestamp  day  hour\n",
       "0 2023-12-02 21:12:00    2    21\n",
       "1 2023-08-06 20:11:00    6    20\n",
       "2 2023-11-21 06:39:00   21     6\n",
       "3 2023-01-21 21:56:00   21    21\n",
       "4 2023-08-26 04:31:00   26     4\n",
       "5 2023-05-06 11:36:00    6    11\n",
       "6 2023-06-06 12:05:00    6    12\n",
       "7 2023-12-12 03:34:00   12     3\n",
       "8 2023-08-16 15:22:00   16    15\n",
       "9 2023-09-19 16:32:00   19    16"
      ]
     },
     "execution_count": 37,
     "metadata": {},
     "output_type": "execute_result"
    }
   ],
   "source": [
    "df['day'] = df['Timestamp'].dt.day\n",
    "df['hour'] = df['Timestamp'].dt.hour\n",
    "df[['Timestamp', 'day', 'hour']].head(10)"
   ]
  },
  {
   "cell_type": "markdown",
   "id": "32f66d0f",
   "metadata": {},
   "source": [
    "## Set Timestamp as Index"
   ]
  },
  {
   "cell_type": "code",
   "execution_count": 38,
   "id": "9117025d",
   "metadata": {},
   "outputs": [
    {
     "data": {
      "text/html": [
       "<div>\n",
       "<style scoped>\n",
       "    .dataframe tbody tr th:only-of-type {\n",
       "        vertical-align: middle;\n",
       "    }\n",
       "\n",
       "    .dataframe tbody tr th {\n",
       "        vertical-align: top;\n",
       "    }\n",
       "\n",
       "    .dataframe thead th {\n",
       "        text-align: right;\n",
       "    }\n",
       "</style>\n",
       "<table border=\"1\" class=\"dataframe\">\n",
       "  <thead>\n",
       "    <tr style=\"text-align: right;\">\n",
       "      <th></th>\n",
       "      <th>Home ID</th>\n",
       "      <th>Appliance Type</th>\n",
       "      <th>Energy Consumption (kWh)</th>\n",
       "      <th>Time</th>\n",
       "      <th>Date</th>\n",
       "      <th>Outdoor Temperature (°C)</th>\n",
       "      <th>Season</th>\n",
       "      <th>Household Size</th>\n",
       "      <th>day</th>\n",
       "      <th>hour</th>\n",
       "    </tr>\n",
       "    <tr>\n",
       "      <th>Timestamp</th>\n",
       "      <th></th>\n",
       "      <th></th>\n",
       "      <th></th>\n",
       "      <th></th>\n",
       "      <th></th>\n",
       "      <th></th>\n",
       "      <th></th>\n",
       "      <th></th>\n",
       "      <th></th>\n",
       "      <th></th>\n",
       "    </tr>\n",
       "  </thead>\n",
       "  <tbody>\n",
       "    <tr>\n",
       "      <th>2023-12-02 21:12:00</th>\n",
       "      <td>94</td>\n",
       "      <td>Fridge</td>\n",
       "      <td>0.20</td>\n",
       "      <td>21:12</td>\n",
       "      <td>2023-12-02</td>\n",
       "      <td>-1.0</td>\n",
       "      <td>Fall</td>\n",
       "      <td>2</td>\n",
       "      <td>2</td>\n",
       "      <td>21</td>\n",
       "    </tr>\n",
       "    <tr>\n",
       "      <th>2023-08-06 20:11:00</th>\n",
       "      <td>435</td>\n",
       "      <td>Oven</td>\n",
       "      <td>0.23</td>\n",
       "      <td>20:11</td>\n",
       "      <td>2023-08-06</td>\n",
       "      <td>31.1</td>\n",
       "      <td>Summer</td>\n",
       "      <td>5</td>\n",
       "      <td>6</td>\n",
       "      <td>20</td>\n",
       "    </tr>\n",
       "    <tr>\n",
       "      <th>2023-11-21 06:39:00</th>\n",
       "      <td>466</td>\n",
       "      <td>Dishwasher</td>\n",
       "      <td>0.32</td>\n",
       "      <td>06:39</td>\n",
       "      <td>2023-11-21</td>\n",
       "      <td>21.3</td>\n",
       "      <td>Fall</td>\n",
       "      <td>3</td>\n",
       "      <td>21</td>\n",
       "      <td>6</td>\n",
       "    </tr>\n",
       "    <tr>\n",
       "      <th>2023-01-21 21:56:00</th>\n",
       "      <td>496</td>\n",
       "      <td>Heater</td>\n",
       "      <td>3.92</td>\n",
       "      <td>21:56</td>\n",
       "      <td>2023-01-21</td>\n",
       "      <td>-4.2</td>\n",
       "      <td>Winter</td>\n",
       "      <td>1</td>\n",
       "      <td>21</td>\n",
       "      <td>21</td>\n",
       "    </tr>\n",
       "    <tr>\n",
       "      <th>2023-08-26 04:31:00</th>\n",
       "      <td>137</td>\n",
       "      <td>Microwave</td>\n",
       "      <td>0.44</td>\n",
       "      <td>04:31</td>\n",
       "      <td>2023-08-26</td>\n",
       "      <td>34.5</td>\n",
       "      <td>Summer</td>\n",
       "      <td>5</td>\n",
       "      <td>26</td>\n",
       "      <td>4</td>\n",
       "    </tr>\n",
       "  </tbody>\n",
       "</table>\n",
       "</div>"
      ],
      "text/plain": [
       "                     Home ID Appliance Type  Energy Consumption (kWh)   Time  \\\n",
       "Timestamp                                                                      \n",
       "2023-12-02 21:12:00       94         Fridge                      0.20  21:12   \n",
       "2023-08-06 20:11:00      435           Oven                      0.23  20:11   \n",
       "2023-11-21 06:39:00      466     Dishwasher                      0.32  06:39   \n",
       "2023-01-21 21:56:00      496         Heater                      3.92  21:56   \n",
       "2023-08-26 04:31:00      137      Microwave                      0.44  04:31   \n",
       "\n",
       "                           Date  Outdoor Temperature (°C)  Season  \\\n",
       "Timestamp                                                           \n",
       "2023-12-02 21:12:00  2023-12-02                      -1.0    Fall   \n",
       "2023-08-06 20:11:00  2023-08-06                      31.1  Summer   \n",
       "2023-11-21 06:39:00  2023-11-21                      21.3    Fall   \n",
       "2023-01-21 21:56:00  2023-01-21                      -4.2  Winter   \n",
       "2023-08-26 04:31:00  2023-08-26                      34.5  Summer   \n",
       "\n",
       "                     Household Size  day  hour  \n",
       "Timestamp                                       \n",
       "2023-12-02 21:12:00               2    2    21  \n",
       "2023-08-06 20:11:00               5    6    20  \n",
       "2023-11-21 06:39:00               3   21     6  \n",
       "2023-01-21 21:56:00               1   21    21  \n",
       "2023-08-26 04:31:00               5   26     4  "
      ]
     },
     "execution_count": 38,
     "metadata": {},
     "output_type": "execute_result"
    }
   ],
   "source": [
    "df = df.set_index('Timestamp')\n",
    "df.head()"
   ]
  },
  {
   "cell_type": "markdown",
   "id": "b9b6864a",
   "metadata": {},
   "source": [
    "## Check for Missing Values and Fill"
   ]
  },
  {
   "cell_type": "code",
   "execution_count": 39,
   "id": "3ea19bbe",
   "metadata": {},
   "outputs": [
    {
     "data": {
      "text/plain": [
       "Home ID                     0\n",
       "Appliance Type              0\n",
       "Energy Consumption (kWh)    0\n",
       "Time                        0\n",
       "Date                        0\n",
       "Outdoor Temperature (°C)    0\n",
       "Season                      0\n",
       "Household Size              0\n",
       "day                         0\n",
       "hour                        0\n",
       "dtype: int64"
      ]
     },
     "execution_count": 39,
     "metadata": {},
     "output_type": "execute_result"
    }
   ],
   "source": [
    "df.isna().sum() # check for missing (NaN = not a Number) values in your DataFrame. NaN represents missing or undefined data in a dataset"
   ]
  },
  {
   "cell_type": "code",
   "execution_count": 40,
   "id": "a489eb37",
   "metadata": {},
   "outputs": [],
   "source": [
    "# inject some NaN values\n",
    "import numpy as np  \n",
    "nan_indices = np.random.choice(df.index, size=100, replace=False)\n",
    "df.loc[nan_indices, 'Energy Consumption (kWh)'] = np.nan"
   ]
  },
  {
   "cell_type": "code",
   "execution_count": 41,
   "id": "b2845798",
   "metadata": {},
   "outputs": [
    {
     "data": {
      "text/plain": [
       "Home ID                       0\n",
       "Appliance Type                0\n",
       "Energy Consumption (kWh)    114\n",
       "Time                          0\n",
       "Date                          0\n",
       "Outdoor Temperature (°C)      0\n",
       "Season                        0\n",
       "Household Size                0\n",
       "day                           0\n",
       "hour                          0\n",
       "dtype: int64"
      ]
     },
     "execution_count": 41,
     "metadata": {},
     "output_type": "execute_result"
    }
   ],
   "source": [
    "df.isnull().sum()"
   ]
  },
  {
   "cell_type": "code",
   "execution_count": 42,
   "id": "f7a13344",
   "metadata": {},
   "outputs": [
    {
     "data": {
      "text/html": [
       "<div>\n",
       "<style scoped>\n",
       "    .dataframe tbody tr th:only-of-type {\n",
       "        vertical-align: middle;\n",
       "    }\n",
       "\n",
       "    .dataframe tbody tr th {\n",
       "        vertical-align: top;\n",
       "    }\n",
       "\n",
       "    .dataframe thead th {\n",
       "        text-align: right;\n",
       "    }\n",
       "</style>\n",
       "<table border=\"1\" class=\"dataframe\">\n",
       "  <thead>\n",
       "    <tr style=\"text-align: right;\">\n",
       "      <th></th>\n",
       "      <th>Home ID</th>\n",
       "      <th>Appliance Type</th>\n",
       "      <th>Energy Consumption (kWh)</th>\n",
       "      <th>Time</th>\n",
       "      <th>Date</th>\n",
       "      <th>Outdoor Temperature (°C)</th>\n",
       "      <th>Season</th>\n",
       "      <th>Household Size</th>\n",
       "      <th>day</th>\n",
       "      <th>hour</th>\n",
       "    </tr>\n",
       "    <tr>\n",
       "      <th>Timestamp</th>\n",
       "      <th></th>\n",
       "      <th></th>\n",
       "      <th></th>\n",
       "      <th></th>\n",
       "      <th></th>\n",
       "      <th></th>\n",
       "      <th></th>\n",
       "      <th></th>\n",
       "      <th></th>\n",
       "      <th></th>\n",
       "    </tr>\n",
       "  </thead>\n",
       "  <tbody>\n",
       "    <tr>\n",
       "      <th>2023-08-19 20:12:00</th>\n",
       "      <td>378</td>\n",
       "      <td>Computer</td>\n",
       "      <td>NaN</td>\n",
       "      <td>20:12</td>\n",
       "      <td>2023-08-19</td>\n",
       "      <td>21.5</td>\n",
       "      <td>Summer</td>\n",
       "      <td>3</td>\n",
       "      <td>19</td>\n",
       "      <td>20</td>\n",
       "    </tr>\n",
       "    <tr>\n",
       "      <th>2023-12-08 03:29:00</th>\n",
       "      <td>246</td>\n",
       "      <td>Oven</td>\n",
       "      <td>NaN</td>\n",
       "      <td>03:29</td>\n",
       "      <td>2023-12-08</td>\n",
       "      <td>-7.8</td>\n",
       "      <td>Fall</td>\n",
       "      <td>3</td>\n",
       "      <td>8</td>\n",
       "      <td>3</td>\n",
       "    </tr>\n",
       "    <tr>\n",
       "      <th>2023-11-10 18:48:00</th>\n",
       "      <td>160</td>\n",
       "      <td>Fridge</td>\n",
       "      <td>NaN</td>\n",
       "      <td>18:48</td>\n",
       "      <td>2023-11-10</td>\n",
       "      <td>-4.5</td>\n",
       "      <td>Fall</td>\n",
       "      <td>1</td>\n",
       "      <td>10</td>\n",
       "      <td>18</td>\n",
       "    </tr>\n",
       "    <tr>\n",
       "      <th>2023-01-03 10:46:00</th>\n",
       "      <td>159</td>\n",
       "      <td>Washing Machine</td>\n",
       "      <td>NaN</td>\n",
       "      <td>10:46</td>\n",
       "      <td>2023-01-03</td>\n",
       "      <td>13.0</td>\n",
       "      <td>Winter</td>\n",
       "      <td>4</td>\n",
       "      <td>3</td>\n",
       "      <td>10</td>\n",
       "    </tr>\n",
       "    <tr>\n",
       "      <th>2023-04-04 14:43:00</th>\n",
       "      <td>450</td>\n",
       "      <td>Air Conditioning</td>\n",
       "      <td>NaN</td>\n",
       "      <td>14:43</td>\n",
       "      <td>2023-04-04</td>\n",
       "      <td>-3.6</td>\n",
       "      <td>Spring</td>\n",
       "      <td>3</td>\n",
       "      <td>4</td>\n",
       "      <td>14</td>\n",
       "    </tr>\n",
       "  </tbody>\n",
       "</table>\n",
       "</div>"
      ],
      "text/plain": [
       "                     Home ID    Appliance Type  Energy Consumption (kWh)  \\\n",
       "Timestamp                                                                  \n",
       "2023-08-19 20:12:00      378          Computer                       NaN   \n",
       "2023-12-08 03:29:00      246              Oven                       NaN   \n",
       "2023-11-10 18:48:00      160            Fridge                       NaN   \n",
       "2023-01-03 10:46:00      159   Washing Machine                       NaN   \n",
       "2023-04-04 14:43:00      450  Air Conditioning                       NaN   \n",
       "\n",
       "                      Time        Date  Outdoor Temperature (°C)  Season  \\\n",
       "Timestamp                                                                  \n",
       "2023-08-19 20:12:00  20:12  2023-08-19                      21.5  Summer   \n",
       "2023-12-08 03:29:00  03:29  2023-12-08                      -7.8    Fall   \n",
       "2023-11-10 18:48:00  18:48  2023-11-10                      -4.5    Fall   \n",
       "2023-01-03 10:46:00  10:46  2023-01-03                      13.0  Winter   \n",
       "2023-04-04 14:43:00  14:43  2023-04-04                      -3.6  Spring   \n",
       "\n",
       "                     Household Size  day  hour  \n",
       "Timestamp                                       \n",
       "2023-08-19 20:12:00               3   19    20  \n",
       "2023-12-08 03:29:00               3    8     3  \n",
       "2023-11-10 18:48:00               1   10    18  \n",
       "2023-01-03 10:46:00               4    3    10  \n",
       "2023-04-04 14:43:00               3    4    14  "
      ]
     },
     "execution_count": 42,
     "metadata": {},
     "output_type": "execute_result"
    }
   ],
   "source": [
    "# locate the NaN values\n",
    "nan_rows = df[df['Energy Consumption (kWh)'].isnull()] #df[condition]\n",
    "#use head to see those nan values\n",
    "nan_rows.head()"
   ]
  },
  {
   "cell_type": "code",
   "execution_count": 43,
   "id": "7332be06",
   "metadata": {},
   "outputs": [],
   "source": [
    "# fill NaN values with the mean of the column\n",
    "# This is a simple imputation method    \n",
    "df['Avg_Energy Consumption (kWh)'] = df['Energy Consumption (kWh)'].fillna(df['Energy Consumption (kWh)'].mean())"
   ]
  },
  {
   "cell_type": "code",
   "execution_count": 44,
   "id": "ed8f28ee",
   "metadata": {},
   "outputs": [
    {
     "data": {
      "text/plain": [
       "Home ID                           0\n",
       "Appliance Type                    0\n",
       "Energy Consumption (kWh)        114\n",
       "Time                              0\n",
       "Date                              0\n",
       "Outdoor Temperature (°C)          0\n",
       "Season                            0\n",
       "Household Size                    0\n",
       "day                               0\n",
       "hour                              0\n",
       "Avg_Energy Consumption (kWh)      0\n",
       "dtype: int64"
      ]
     },
     "execution_count": 44,
     "metadata": {},
     "output_type": "execute_result"
    }
   ],
   "source": [
    "df.isnull().sum()"
   ]
  },
  {
   "cell_type": "markdown",
   "id": "6b0739a2",
   "metadata": {},
   "source": [
    "## Sorting Results"
   ]
  },
  {
   "cell_type": "code",
   "execution_count": 56,
   "id": "dfbdc706",
   "metadata": {},
   "outputs": [
    {
     "name": "stdout",
     "output_type": "stream",
     "text": [
      "       Home ID Appliance Type  Energy Consumption (kWh)   Time        Date  \\\n",
      "21340      459           Oven                      1.97  03:18  2023-06-29   \n",
      "\n",
      "       Outdoor Temperature (°C)  Season  Household Size  day  hour  \\\n",
      "21340                      26.1  Spring               1   29     3   \n",
      "\n",
      "       Avg_Energy Consumption (kWh)  \n",
      "21340                          1.97  \n"
     ]
    }
   ],
   "source": [
    "# group by day and hour, then calculate the average energy consumption\n",
    "grouped = df.groupby(['day', 'hour']).agg({'Avg_Energy Consumption (kWh)': 'mean'}).reset_index()\n",
    "grouped_sorted = df.sort_values('Avg_Energy Consumption (kWh)', ascending=False)\n",
    "# the  row iwth home id is 459\n",
    "# find a specific row with Home ID 459 and Appliance Type \"Oven\"\n",
    "# and get the first row of that group   \n",
    "grouped_sorted = grouped_sorted.reset_index(drop=True)\n",
    "grouped_sorted.head()\n",
    "home_id_row = grouped_sorted[(grouped_sorted['Home ID'] == 459) & (grouped_sorted['Appliance Type'] == \"Oven\")].head(1)\n",
    "print(home_id_row)\n",
    "\n"
   ]
  },
  {
   "cell_type": "markdown",
   "id": "a7793b6d",
   "metadata": {},
   "source": [
    "## Top 3 Appliances by Maximum Energy Consumption"
   ]
  },
  {
   "cell_type": "code",
   "execution_count": 46,
   "id": "e6c35cca",
   "metadata": {},
   "outputs": [
    {
     "name": "stdout",
     "output_type": "stream",
     "text": [
      "Appliance Type\n",
      "Air Conditioning    5.000000\n",
      "Heater              5.000000\n",
      "Computer            2.000000\n",
      "Dishwasher          2.000000\n",
      "Lights              2.000000\n",
      "Microwave           2.000000\n",
      "TV                  2.000000\n",
      "Oven                2.000000\n",
      "Washing Machine     2.000000\n",
      "Fridge              1.499997\n",
      "Name: Avg_Energy Consumption (kWh), dtype: float64\n"
     ]
    }
   ],
   "source": [
    "# find the top 3 appliances by average energy consumption\n",
    "top3 = df.groupby('Appliance Type')['Avg_Energy Consumption (kWh)'].max().nlargest(10)\n",
    "print(top3)\n"
   ]
  },
  {
   "cell_type": "markdown",
   "id": "61f564c1",
   "metadata": {},
   "source": [
    "## Plotting Daily Power Usage (Line Chart)"
   ]
  },
  {
   "cell_type": "code",
   "execution_count": 57,
   "id": "6ebf24b1",
   "metadata": {},
   "outputs": [
    {
     "data": {
      "text/plain": [
       "<Axes: title={'center': 'Top 3 Appliances by Average Energy Consumption'}, xlabel='Appliance Type', ylabel='kWh'>"
      ]
     },
     "execution_count": 57,
     "metadata": {},
     "output_type": "execute_result"
    },
    {
     "data": {
      "image/png": "[encoded data removed]",
      "text/plain": [
       "<Figure size 1000x400 with 1 Axes>"
      ]
     },
     "metadata": {},
     "output_type": "display_data"
    }
   ],
   "source": [
    "# plot with inbuilt pandas plotting \n",
    "# plot the top 3 appliances by average energy consumption\n",
    "top3.plot(kind='line', title='Top 3 Appliances by Average Energy Consumption', ylabel='kWh', xlabel='Appliance Type', figsize=(10,4))\n"
   ]
  },
  {
   "cell_type": "markdown",
   "id": "9d26823d",
   "metadata": {},
   "source": [
    "## Plot Average Power Usage per Appliance (Bar Plot)"
   ]
  },
  {
   "cell_type": "code",
   "execution_count": 48,
   "id": "e120be76",
   "metadata": {},
   "outputs": [
    {
     "data": {
      "text/plain": [
       "<Axes: title={'center': 'Average Energy Consumption by Appliance Type'}, xlabel='Appliance Type', ylabel='kWh'>"
      ]
     },
     "execution_count": 48,
     "metadata": {},
     "output_type": "execute_result"
    },
    {
     "data": {
      "image/png": "[encoded data removed]",
      "text/plain": [
       "<Figure size 1000x400 with 1 Axes>"
      ]
     },
     "metadata": {},
     "output_type": "display_data"
    }
   ],
   "source": [
    "#plot bar chart for energy consumption using group by  for df using appliance type using built-in pandas plotting\n",
    "df.groupby('Appliance Type')['Avg_Energy Consumption (kWh)'].mean().sort_values().plot(kind='bar', title='Average Energy Consumption by Appliance Type', ylabel='kWh', xlabel='Appliance Type', figsize=(10,4))\n"
   ]
  },
  {
   "cell_type": "markdown",
   "id": "d9f41543",
   "metadata": {},
   "source": [
    "## Histogram of Power Usage Distribution"
   ]
  },
  {
   "cell_type": "code",
   "execution_count": 49,
   "id": "b449296e",
   "metadata": {},
   "outputs": [
    {
     "data": {
      "text/plain": [
       "<Axes: title={'center': 'Distribution of Energy Consumption'}, ylabel='Frequency'>"
      ]
     },
     "execution_count": 49,
     "metadata": {},
     "output_type": "execute_result"
    },
    {
     "data": {
      "image/png": "[encoded data removed]",
      "text/plain": [
       "<Figure size 640x480 with 1 Axes>"
      ]
     },
     "metadata": {},
     "output_type": "display_data"
    }
   ],
   "source": [
    "\n",
    "df['Energy Consumption (kWh)'].plot(kind='hist', bins=10, title='Distribution of Energy Consumption', alpha=0.7)\n",
    "\n"
   ]
  },
  {
   "cell_type": "code",
   "execution_count": null,
   "id": "8d71cc02",
   "metadata": {},
   "outputs": [
    {
     "data": {
      "text/plain": [
       "Timestamp\n",
       "2023-01-01    466.40\n",
       "2023-01-02    401.01\n",
       "2023-01-03    371.47\n",
       "2023-01-04    454.80\n",
       "2023-01-05    460.98\n",
       "Freq: D, Name: Energy Consumption (kWh), dtype: float64"
      ]
     },
     "execution_count": 50,
     "metadata": {},
     "output_type": "execute_result"
    }
   ],
   "source": [
    "# resample the data to daily frequency and sum the energy consumption\n",
    "df_daily = df['Energy Consumption (kWh)'].resample('D').sum() # group the data by day ('D' = daily frequency) based on the timestamp index. (Important: Your df must have the timestamp set as the index using)\n",
    "df_daily.head()\n",
    "\n",
    "#output shows total energy consumption per day in kWh"
   ]
  },
  {
   "cell_type": "markdown",
   "id": "05310b6c",
   "metadata": {},
   "source": [
    "## Handling Missing energy consumption"
   ]
  },
  {
   "cell_type": "code",
   "execution_count": 51,
   "id": "ad30e9de",
   "metadata": {},
   "outputs": [],
   "source": [
    "df['Energy Consumption (kWh)'] = df['Energy Consumption (kWh)'].fillna(df['Energy Consumption (kWh)'].mean())"
   ]
  },
  {
   "cell_type": "markdown",
   "id": "ca53a3a5",
   "metadata": {},
   "source": [
    "## GroupBy  – Aggregations"
   ]
  },
  {
   "cell_type": "code",
   "execution_count": 52,
   "id": "fc8bf8d3",
   "metadata": {},
   "outputs": [
    {
     "data": {
      "text/html": [
       "<div>\n",
       "<style scoped>\n",
       "    .dataframe tbody tr th:only-of-type {\n",
       "        vertical-align: middle;\n",
       "    }\n",
       "\n",
       "    .dataframe tbody tr th {\n",
       "        vertical-align: top;\n",
       "    }\n",
       "\n",
       "    .dataframe thead th {\n",
       "        text-align: right;\n",
       "    }\n",
       "</style>\n",
       "<table border=\"1\" class=\"dataframe\">\n",
       "  <thead>\n",
       "    <tr style=\"text-align: right;\">\n",
       "      <th></th>\n",
       "      <th>Season</th>\n",
       "      <th>Appliance Type</th>\n",
       "      <th>avg_power</th>\n",
       "      <th>custom_metric</th>\n",
       "      <th>min_power</th>\n",
       "      <th>max_power</th>\n",
       "      <th>count_entries</th>\n",
       "    </tr>\n",
       "  </thead>\n",
       "  <tbody>\n",
       "    <tr>\n",
       "      <th>0</th>\n",
       "      <td>Fall</td>\n",
       "      <td>Air Conditioning</td>\n",
       "      <td>3.463467</td>\n",
       "      <td>6.963470</td>\n",
       "      <td>1.499997</td>\n",
       "      <td>5.000000</td>\n",
       "      <td>2547</td>\n",
       "    </tr>\n",
       "    <tr>\n",
       "      <th>1</th>\n",
       "      <td>Fall</td>\n",
       "      <td>Computer</td>\n",
       "      <td>1.099524</td>\n",
       "      <td>2.899524</td>\n",
       "      <td>0.200000</td>\n",
       "      <td>2.000000</td>\n",
       "      <td>2523</td>\n",
       "    </tr>\n",
       "    <tr>\n",
       "      <th>2</th>\n",
       "      <td>Fall</td>\n",
       "      <td>Dishwasher</td>\n",
       "      <td>1.106070</td>\n",
       "      <td>2.906070</td>\n",
       "      <td>0.200000</td>\n",
       "      <td>2.000000</td>\n",
       "      <td>2565</td>\n",
       "    </tr>\n",
       "    <tr>\n",
       "      <th>3</th>\n",
       "      <td>Fall</td>\n",
       "      <td>Fridge</td>\n",
       "      <td>0.301041</td>\n",
       "      <td>1.701038</td>\n",
       "      <td>0.100000</td>\n",
       "      <td>1.499997</td>\n",
       "      <td>2489</td>\n",
       "    </tr>\n",
       "    <tr>\n",
       "      <th>4</th>\n",
       "      <td>Fall</td>\n",
       "      <td>Heater</td>\n",
       "      <td>3.475570</td>\n",
       "      <td>6.975573</td>\n",
       "      <td>1.499997</td>\n",
       "      <td>5.000000</td>\n",
       "      <td>2499</td>\n",
       "    </tr>\n",
       "  </tbody>\n",
       "</table>\n",
       "</div>"
      ],
      "text/plain": [
       "  Season    Appliance Type  avg_power  custom_metric  min_power  max_power  \\\n",
       "0   Fall  Air Conditioning   3.463467       6.963470   1.499997   5.000000   \n",
       "1   Fall          Computer   1.099524       2.899524   0.200000   2.000000   \n",
       "2   Fall        Dishwasher   1.106070       2.906070   0.200000   2.000000   \n",
       "3   Fall            Fridge   0.301041       1.701038   0.100000   1.499997   \n",
       "4   Fall            Heater   3.475570       6.975573   1.499997   5.000000   \n",
       "\n",
       "   count_entries  \n",
       "0           2547  \n",
       "1           2523  \n",
       "2           2565  \n",
       "3           2489  \n",
       "4           2499  "
      ]
     },
     "execution_count": 52,
     "metadata": {},
     "output_type": "execute_result"
    }
   ],
   "source": [
    "#Custom Aggregation with user defined function\n",
    "def custom_aggregation(series):\n",
    "    return  series.max() - series.min() + series.mean() # This is a custom aggregation function that calculates the range plus the mean\n",
    "\n",
    "grouped_custom = df.groupby(['Season', 'Appliance Type']).agg(\n",
    "    avg_power=('Energy Consumption (kWh)', 'mean'),\n",
    "    custom_metric=('Energy Consumption (kWh)', custom_aggregation),\n",
    "    min_power=('Energy Consumption (kWh)', 'min'),\n",
    "    max_power=('Energy Consumption (kWh)', 'max'),\n",
    "    count_entries=('Energy Consumption (kWh)', 'count')\n",
    ").reset_index()\n",
    "\n",
    "grouped_custom.head()\n"
   ]
  },
  {
   "cell_type": "code",
   "execution_count": 53,
   "id": "fda58eab",
   "metadata": {},
   "outputs": [
    {
     "data": {
      "text/plain": [
       "<Axes: title={'center': 'Custom Aggregation of Energy Consumption by Appliance Type'}, xlabel='Appliance Type', ylabel='Proportion of Values > 3.0'>"
      ]
     },
     "execution_count": 53,
     "metadata": {},
     "output_type": "execute_result"
    },
    {
     "data": {
      "image/png": "[encoded data removed]",
      "text/plain": [
       "<Figure size 1000x400 with 1 Axes>"
      ]
     },
     "metadata": {},
     "output_type": "display_data"
    }
   ],
   "source": [
    "# plot grouped_custom data using built-in pandas plotting which shows the custom aggregation of energy consumption by appliance type\n",
    "grouped_custom.plot(kind='bar', x='Appliance Type', y='custom_metric', title='Custom Aggregation of Energy Consumption by Appliance Type', ylabel='Proportion of Values > 3.0', xlabel='Appliance Type', figsize=(10,4))\n"
   ]
  },
  {
   "cell_type": "code",
   "execution_count": 54,
   "id": "0098d170",
   "metadata": {},
   "outputs": [
    {
     "name": "stderr",
     "output_type": "stream",
     "text": [
      "C:\\Users\\namro\\AppData\\Local\\Temp\\ipykernel_10036\\2097442275.py:3: FutureWarning: 'H' is deprecated and will be removed in a future version, please use 'h' instead.\n",
      "  df_hourly = df['Energy Consumption (kWh)'].resample('H').sum()\n"
     ]
    },
    {
     "data": {
      "text/plain": [
       "<Axes: title={'center': 'Hourly Energy Consumption'}, xlabel='Timestamp', ylabel='kWh'>"
      ]
     },
     "execution_count": 54,
     "metadata": {},
     "output_type": "execute_result"
    },
    {
     "data": {
      "image/png": "[encoded data removed]",
      "text/plain": [
       "<Figure size 1000x400 with 1 Axes>"
      ]
     },
     "metadata": {},
     "output_type": "display_data"
    }
   ],
   "source": [
    "## Resample Energy Consumption Data\n",
    "# Resample the data to hourly frequency and sum the energy consumption\n",
    "df_hourly = df['Energy Consumption (kWh)'].resample('H').sum()\n",
    "df_hourly.head()\n",
    "# Plot the hourly energy consumption\n",
    "df_hourly.plot(kind='line', title='Hourly Energy Consumption', ylabel='kWh', xlabel='Timestamp', figsize=(10,4))\n",
    "\n"
   ]
  },
  {
   "cell_type": "code",
   "execution_count": 55,
   "id": "30dad216",
   "metadata": {},
   "outputs": [
    {
     "name": "stderr",
     "output_type": "stream",
     "text": [
      "C:\\Users\\namro\\AppData\\Local\\Temp\\ipykernel_10036\\799110975.py:2: FutureWarning: 'M' is deprecated and will be removed in a future version, please use 'ME' instead.\n",
      "  df_monthly = df['Energy Consumption (kWh)'].resample('M').sum()\n"
     ]
    },
    {
     "data": {
      "text/plain": [
       "<Axes: title={'center': 'Monthly Energy Consumption'}, xlabel='Timestamp', ylabel='kWh'>"
      ]
     },
     "execution_count": 55,
     "metadata": {},
     "output_type": "execute_result"
    },
    {
     "data": {
      "image/png": "[encoded data removed]",
      "text/plain": [
       "<Figure size 1000x400 with 1 Axes>"
      ]
     },
     "metadata": {},
     "output_type": "display_data"
    }
   ],
   "source": [
    "# Resample the data to monthly frequency and sum the energy consumption\n",
    "df_monthly = df['Energy Consumption (kWh)'].resample('M').sum()\n",
    "df_monthly.head()\n",
    "# Plot the monthly energy consumption\n",
    "df_monthly.plot(kind='line', title='Monthly Energy Consumption', ylabel='kWh', xlabel='Timestamp', figsize=(10,4))"
   ]
  },
  {
   "cell_type": "markdown",
   "id": "86103fb0",
   "metadata": {},
   "source": [
    "# Home Assignment\n",
    "\n",
    "\n",
    "Create a database named ``sensor_data.db.`` Define a table called measurements with the following columns:\n",
    "\n",
    "``id``: INTEGER PRIMARY KEY   , ``timestamp``: TEXT (ISO 8601 format, e.g., \"2025-06-05 14:27:00\")   , ``value``: REAL (e.g., a temperature or power reading)\n",
    "\n",
    "\n",
    "-Generate at least 200 rows of synthetic sensor data.\n",
    "\n",
    "-Timestamps should span at least two full days with uneven/random intervals (e.g., random minutes).\n",
    "\n",
    "-Values can be random floats between 0.0 and 100.0.\n",
    "\n",
    "-Insert this data into the measurements table.\n",
    "\n",
    "-Load the entire measurements table into a Pandas DataFrame. Ensure the timestamp column is parsed as a datetime and set as the index.\n",
    "\n",
    "-Resample the DataFrame to hourly frequency and compute the average of value for each hour.\n",
    "\n",
    "-Filter to keep only rows where the hourly average is greater than 50.0.\n",
    "\n",
    "-Group the filtered hourly data by date (e.g., using .dt.date) and compute:\n",
    "\n",
    "  1. The daily maximum of the hourly averages.\n",
    "  2. The count of hours that passed the filter.\n",
    "\n",
    "\n",
    "-Plot the daily maximum values using Pandas .plot(). (Include axis labels and a title for clarity.)\n"
   ]
  }
 ],
 "metadata": {
  "kernelspec": {
   "display_name": "Python 3",
   "language": "python",
   "name": "python3"
  },
  "language_info": {
   "codemirror_mode": {
    "name": "ipython",
    "version": 3
   },
   "file_extension": ".py",
   "mimetype": "text/x-python",
   "name": "python",
   "nbconvert_exporter": "python",
   "pygments_lexer": "ipython3",
   "version": "3.11.9"
  }
 },
 "nbformat": 4,
 "nbformat_minor": 5
}
