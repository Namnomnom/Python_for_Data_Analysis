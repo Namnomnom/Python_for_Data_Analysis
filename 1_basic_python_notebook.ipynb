{
  "cells": [
    {
      "cell_type": "markdown",
      "metadata": {
        "id": "RVRep70I8yql"
      },
      "source": [
        "## Python Basics"
      ]
    },
    {
      "cell_type": "markdown",
      "metadata": {
        "id": "JQy9KMs6ERRq"
      },
      "source": [
        "### Variables vs. Constants\n",
        "\n",
        "It's a name we give to a piece of information, and that information can change."
      ]
    },
    {
      "cell_type": "code",
      "execution_count": 2,
      "metadata": {
        "id": "TzN9pp7m8yqn"
      },
      "outputs": [
        {
          "name": "stdout",
          "output_type": "stream",
          "text": [
            "30\n",
            "31\n"
          ]
        }
      ],
      "source": [
        "age = 30\n",
        "print(age)\n",
        "age = 31\n",
        "print(age)"
      ]
    },
    {
      "cell_type": "markdown",
      "metadata": {
        "id": "LIDBcg7X8yqo"
      },
      "source": [
        "Here, `age` is our label, and we first stuck it on the number 30, then we moved it to 31.\n",
        "\n",
        "Now, a **constant** is like a label you stick on something, and you generally agree *not* to change it.\n",
        "\n",
        "Python doesn't have truly unchangeable constants in the same way some other languages do, but we often use uppercase letters to signal that a variable should be treated as a constant:"
      ]
    },
    {
      "cell_type": "code",
      "execution_count": 6,
      "metadata": {
        "id": "SxsjuylyL067"
      },
      "outputs": [],
      "source": [
        "_123abc = 12321 # Ein Variablenname darf nicht mit einer Zahl beginnen, aber mit einem Unterstrich und dann Zahlen ist OK"
      ]
    },
    {
      "cell_type": "code",
      "execution_count": 7,
      "metadata": {
        "id": "vFDjneSM8yqo"
      },
      "outputs": [],
      "source": [
        "PI = 3.14159"
      ]
    },
    {
      "cell_type": "markdown",
      "metadata": {
        "id": "XWkhxvwh8yqp"
      },
      "source": [
        "It's a convention – we know we *shouldn't* reassign `PI`."
      ]
    },
    {
      "cell_type": "markdown",
      "metadata": {
        "id": "HIkzN_8FEvmw"
      },
      "source": [
        "### Primitive Data Types\n",
        "\n",
        "These are the basic kinds of information Python can work with:\n",
        "\n",
        "* **Integers (int):** Whole numbers like `-5`, `0`, `100`.\n",
        "\n",
        "* **Floats (float):** Numbers with decimal points like `3.14`, `-2.5`.\n",
        "\n",
        "* **Strings (str):** Text enclosed in quotes, like `\"Hello\"`, `'Python'`.\n",
        "\n",
        "* **Booleans (bool):** Represent truth or false values: `True` or `False`."
      ]
    },
    {
      "cell_type": "code",
      "execution_count": 8,
      "metadata": {
        "id": "3lJNfe2G8yqp"
      },
      "outputs": [
        {
          "name": "stdout",
          "output_type": "stream",
          "text": [
            "<class 'int'>\n",
            "<class 'float'>\n",
            "<class 'str'>\n",
            "<class 'bool'>\n"
          ]
        }
      ],
      "source": [
        "number_of_apples = 5 # integer\n",
        "price_per_apple = 0.75 # float\n",
        "greeting = 'Hello!' # string\n",
        "is_raining = False # boolean\n",
        "\n",
        "print(type(number_of_apples)) # type()-Funktion sagt , was für ein \"Typ\" ein Wert oder eine Variable ist\n",
        "print(type(price_per_apple))\n",
        "print(type(greeting))\n",
        "print(type(is_raining))"
      ]
    },
    {
      "cell_type": "markdown",
      "metadata": {
        "id": "rfPLW8UC8yqp"
      },
      "source": [
        "The `type()` function tells us the type of a variable."
      ]
    },
    {
      "cell_type": "code",
      "execution_count": 9,
      "metadata": {
        "id": "8P5-ETWOMlFA"
      },
      "outputs": [
        {
          "name": "stdout",
          "output_type": "stream",
          "text": [
            "The price of the apples is = 3.75 \n",
            " The type of the number is: <class 'float'>\n"
          ]
        }
      ],
      "source": [
        "print('The price of the apples is =',\n",
        "      number_of_apples * price_per_apple,\n",
        "      '\\n',\n",
        "      'The type of the number is:',\n",
        "      type(number_of_apples * price_per_apple))"
      ]
    },
    {
      "cell_type": "code",
      "execution_count": 10,
      "metadata": {
        "id": "1drB9hRbNYt0"
      },
      "outputs": [
        {
          "name": "stdout",
          "output_type": "stream",
          "text": [
            "28.5\n",
            "10.7\n",
            "-0.7000000000000002\n",
            "0.8771929824561403\n",
            "5.0\n",
            "2\n"
          ]
        }
      ],
      "source": [
        "# multiply *\n",
        "# addition +\n",
        "# subtraction -\n",
        "# division /\n",
        "# modulo %\n",
        "# integer division //\n",
        "\n",
        "print( 5 * 5.7)\n",
        "print( 5 + 5.7)\n",
        "print( 5 - 5.7)\n",
        "print( 5 / 5.7)\n",
        "print( 5 % 5.7)\n",
        "print( 11 // 5)"
      ]
    },
    {
      "cell_type": "markdown",
      "metadata": {
        "id": "UGb_sm3zE8Zr"
      },
      "source": [
        "### Dictionaries (dict)\n",
        "\n",
        "Remember, they store information in key-value pairs, just like a real dictionary with words (keys) and their meanings (values)."
      ]
    },
    {
      "cell_type": "code",
      "execution_count": 11,
      "metadata": {
        "id": "MdvotW0D8yqp"
      },
      "outputs": [
        {
          "name": "stdout",
          "output_type": "stream",
          "text": [
            "Alice\n",
            "20\n"
          ]
        }
      ],
      "source": [
        "# student ist Name der Variable\n",
        "student = {\"name\": \"Alice\", \"age\": 20, \"major\": \"Computer Science\"} # key ist der Bezeichner des Wertes zB \"name\" oder \"age\" \n",
        "\n",
        "# print(student)\n",
        "\n",
        "print(student[\"name\"]) #gib mir den Wert zum Key \"name\" aus dem dictionary student\n",
        "print(student[\"age\"])"
      ]
    },
    {
      "cell_type": "code",
      "execution_count": 12,
      "metadata": {
        "id": "AZXLwAKw8yqq"
      },
      "outputs": [
        {
          "name": "stdout",
          "output_type": "stream",
          "text": [
            "True\n",
            "False\n"
          ]
        }
      ],
      "source": [
        "print(\"name\" in student) # in wird benutzt um zu überprüfen ob ein bestimmter key  im dictionary vorhanden ist\n",
        "print(\"grade\" in student)"
      ]
    },
    {
      "cell_type": "code",
      "execution_count": 13,
      "metadata": {
        "id": "hN7hWXquQDOj"
      },
      "outputs": [
        {
          "name": "stdout",
          "output_type": "stream",
          "text": [
            "product_b\n"
          ]
        }
      ],
      "source": [
        "Shop_ABC = {\n",
        "    \"products\": [ #ist ein Key im äußeren dictionary Shop_ABC)\n",
        "        {\"name\": \"product_a\", \"qty\": 100, \"price\": 10}, # index 0 , mehrere keys in dem \"product\"-dictionary mit values\n",
        "        {\"name\": \"product_b\", \"qty\": 100, \"price\": 10}, # index 1\n",
        "        {\"name\": \"product_c\", \"qty\": 100, \"price\": 10}, # index 2\n",
        "        {\"name\": \"product_d\", \"qty\": 100, \"price\": 10}, # index 3\n",
        "        ],\n",
        "    \"emplyees\": [ #key mit den Namen employee (Liste von Mitarbeitern)\n",
        "        {\"name\": \"A\", \"salary\": 1000}\n",
        "    ]\n",
        "}\n",
        "\n",
        "print(Shop_ABC[\"products\"][1][\"name\"]) # „Gib mir den value von dem key (\"name\") des product-dictionary aus (Index 1) von dictionary Shop_ABC"
      ]
    },
    {
      "cell_type": "code",
      "execution_count": 14,
      "metadata": {
        "id": "2W81AIGbQ2rY"
      },
      "outputs": [
        {
          "name": "stdout",
          "output_type": "stream",
          "text": [
            "False\n"
          ]
        }
      ],
      "source": [
        "print(\"quality\" in Shop_ABC[\"products\"][1]) # prüft ob quality-key im \"product\"-key existiert im index 1"
      ]
    },
    {
      "cell_type": "code",
      "execution_count": 15,
      "metadata": {
        "id": "BpSgT4qtR9bH"
      },
      "outputs": [
        {
          "name": "stdout",
          "output_type": "stream",
          "text": [
            "{'products': [{'name': 'product_a', 'qty': 100, 'price': 10}, {'name': 'product_b', 'qty': 100, 'price': 10, 'quality': 'good'}, {'name': 'product_c', 'qty': 100, 'price': 10}, {'name': 'product_d', 'qty': 100, 'price': 10}], 'emplyees': [{'name': 'A', 'salary': 1000}]}\n"
          ]
        }
      ],
      "source": [
        "if \"quality\" in Shop_ABC[\"products\"][1] :\n",
        "    print(\"Quality Exists!\")\n",
        "else:\n",
        "    Shop_ABC[\"products\"][1][\"quality\"] = \"good\" # fügt den key quality mit den value good hinzu zum product-dictionary im index 1\n",
        "    print(Shop_ABC) # gibt die aktualisierte komplette dictionary Shop_ABC aus "
      ]
    },
    {
      "cell_type": "code",
      "execution_count": 16,
      "metadata": {
        "id": "xn55BK2KS_QT"
      },
      "outputs": [],
      "source": [
        "del Shop_ABC[\"products\"][1][\"quality\"] #lösche den key quality mit seinem Wert in der product-dictionary"
      ]
    },
    {
      "cell_type": "markdown",
      "metadata": {
        "id": "mU9jq66Q8yqp"
      },
      "source": [
        "Now, let's see how to work with keys:"
      ]
    },
    {
      "cell_type": "markdown",
      "metadata": {
        "id": "xTNgjCro8yqq"
      },
      "source": [
        "* **Adding a new key-value pair:**"
      ]
    },
    {
      "cell_type": "code",
      "execution_count": 17,
      "metadata": {
        "id": "qm-rayIc8yqq"
      },
      "outputs": [
        {
          "name": "stdout",
          "output_type": "stream",
          "text": [
            "{'name': 'Alice', 'age': 20, 'major': 'Computer Science', 'city': 'New York'}\n"
          ]
        }
      ],
      "source": [
        "student[\"city\"] = \"New York\"\n",
        "print(student)"
      ]
    },
    {
      "cell_type": "markdown",
      "metadata": {
        "id": "HowVHqoE8yqq"
      },
      "source": [
        "* **Removing a key-value pair:**"
      ]
    },
    {
      "cell_type": "code",
      "execution_count": 18,
      "metadata": {
        "id": "sH_jo0C28yqq"
      },
      "outputs": [
        {
          "name": "stdout",
          "output_type": "stream",
          "text": [
            "{'name': 'Alice', 'major': 'Computer Science', 'city': 'New York'}\n"
          ]
        }
      ],
      "source": [
        "del student[\"age\"]\n",
        "print(student)"
      ]
    },
    {
      "cell_type": "code",
      "execution_count": 19,
      "metadata": {
        "id": "9LU3Ch-_RpgZ"
      },
      "outputs": [
        {
          "name": "stdout",
          "output_type": "stream",
          "text": [
            "{'name': 'Alice Doe', 'major': 'Computer Science', 'city': 'New York'}\n"
          ]
        }
      ],
      "source": [
        "student[\"name\"] = \"Alice Doe\"\n",
        "print(student)"
      ]
    },
    {
      "cell_type": "markdown",
      "metadata": {
        "id": "s3yZqH5K8yqq"
      },
      "source": [
        "* **Checking for a key using the `get()` method**:\n",
        "The `get()` method is a safer way to access a key because it doesn't cause an error if the key doesn't exist.\n",
        "Instead, it returns `None` (or a default value you specify)."
      ]
    },
    {
      "cell_type": "code",
      "execution_count": 20,
      "metadata": {
        "id": "0WXWtcjK8yqq"
      },
      "outputs": [
        {
          "name": "stdout",
          "output_type": "stream",
          "text": [
            "Alice Doe\n",
            "None\n",
            "Computer Science\n",
            "English\n"
          ]
        }
      ],
      "source": [
        "print(student.get(\"name\"))\n",
        "print(student.get(\"grade\")) #gibt es den key grade? Statt einen Fehler zu werfen gibt es None zurück\n",
        "print(student.get(\"major\", \"Unknown\")) #Unknown ist ein Standardwert der nur verwendet wird wenn der key nicht existiert\n",
        "print(student.get(\"language\", \"English\")) #Gibt es den key language? Nein,gibt es nicht -> Standardwert English wird zurück gegeben"
      ]
    },
    {
      "cell_type": "markdown",
      "metadata": {
        "id": "ALpujSw78yqq"
      },
      "source": [
        "### Lists are ordered collections of items:"
      ]
    },
    {
      "cell_type": "code",
      "execution_count": 21,
      "metadata": {
        "id": "srTTQMhT8yqq"
      },
      "outputs": [
        {
          "name": "stdout",
          "output_type": "stream",
          "text": [
            "apple\n",
            "banana\n"
          ]
        }
      ],
      "source": [
        "fruits = [\"apple\", \"banana\", \"cherry\"] # Eine Liste ist eine Sammmlung von Values und stehen in []\n",
        "print(fruits[0]) # Python starts counting from 0!\n",
        "print(fruits[1])"
      ]
    },
    {
      "cell_type": "markdown",
      "metadata": {
        "id": "NvfsUiVl8yqq"
      },
      "source": [
        "**Expanding a list:**"
      ]
    },
    {
      "cell_type": "code",
      "execution_count": 22,
      "metadata": {
        "id": "btZT1Ilh8yqr"
      },
      "outputs": [
        {
          "name": "stdout",
          "output_type": "stream",
          "text": [
            "['apple', 'banana', 'cherry', 'date']\n"
          ]
        }
      ],
      "source": [
        "fruits.append(\"date\") #append() ist eine methode, um ein Element am Ende einer Liste hinzuzufügen Man ruft eine Methode über einen .\n",
        "print(fruits)"
      ]
    },
    {
      "cell_type": "markdown",
      "metadata": {
        "id": "srH4joHg8yqr"
      },
      "source": [
        "**Removing an item:**"
      ]
    },
    {
      "cell_type": "code",
      "execution_count": 23,
      "metadata": {
        "id": "XnQQ2_se8yqr"
      },
      "outputs": [
        {
          "name": "stdout",
          "output_type": "stream",
          "text": [
            "['apple', 'cherry', 'date']\n"
          ]
        }
      ],
      "source": [
        "fruits.remove(\"banana\")\n",
        "print(fruits)"
      ]
    },
    {
      "cell_type": "code",
      "execution_count": 24,
      "metadata": {
        "id": "_R8Bsee8U3Le"
      },
      "outputs": [
        {
          "ename": "ValueError",
          "evalue": "list.remove(x): x not in list",
          "output_type": "error",
          "traceback": [
            "\u001b[31m---------------------------------------------------------------------------\u001b[39m",
            "\u001b[31mValueError\u001b[39m                                Traceback (most recent call last)",
            "\u001b[36mCell\u001b[39m\u001b[36m \u001b[39m\u001b[32mIn[24]\u001b[39m\u001b[32m, line 1\u001b[39m\n\u001b[32m----> \u001b[39m\u001b[32m1\u001b[39m \u001b[38;5;28mprint\u001b[39m(\u001b[43mfruits\u001b[49m\u001b[43m.\u001b[49m\u001b[43mremove\u001b[49m\u001b[43m(\u001b[49m\u001b[33;43m\"\u001b[39;49m\u001b[33;43mbanana\u001b[39;49m\u001b[33;43m\"\u001b[39;49m\u001b[43m)\u001b[49m)\n",
            "\u001b[31mValueError\u001b[39m: list.remove(x): x not in list"
          ]
        }
      ],
      "source": [
        "print(fruits.remove(\"banana\"))"
      ]
    },
    {
      "cell_type": "code",
      "execution_count": 25,
      "metadata": {
        "id": "nKi_00aZU-Ia"
      },
      "outputs": [
        {
          "name": "stdout",
          "output_type": "stream",
          "text": [
            "date\n"
          ]
        }
      ],
      "source": [
        "_temp = fruits.pop() #pop() methode entfernt das letzte Element aus der Liste fruits und gibt den entfernten Wert zurück\n",
        "print(_temp)"
      ]
    },
    {
      "cell_type": "code",
      "execution_count": 26,
      "metadata": {
        "id": "YBlJTAVOUIpY"
      },
      "outputs": [
        {
          "data": {
            "text/plain": [
              "2"
            ]
          },
          "execution_count": 26,
          "metadata": {},
          "output_type": "execute_result"
        }
      ],
      "source": [
        "len(fruits) #Anzahl der Values in der Liste werden gezählt"
      ]
    },
    {
      "cell_type": "code",
      "execution_count": 27,
      "metadata": {
        "id": "fLG3mryIUNPw"
      },
      "outputs": [
        {
          "ename": "ValueError",
          "evalue": "'date' is not in list",
          "output_type": "error",
          "traceback": [
            "\u001b[31m---------------------------------------------------------------------------\u001b[39m",
            "\u001b[31mValueError\u001b[39m                                Traceback (most recent call last)",
            "\u001b[36mCell\u001b[39m\u001b[36m \u001b[39m\u001b[32mIn[27]\u001b[39m\u001b[32m, line 1\u001b[39m\n\u001b[32m----> \u001b[39m\u001b[32m1\u001b[39m \u001b[43mfruits\u001b[49m\u001b[43m.\u001b[49m\u001b[43mindex\u001b[49m\u001b[43m(\u001b[49m\u001b[33;43m\"\u001b[39;49m\u001b[33;43mdate\u001b[39;49m\u001b[33;43m\"\u001b[39;49m\u001b[43m)\u001b[49m \u001b[38;5;66;03m#index-methode gibt die Index-Position des values date zurück\u001b[39;00m\n",
            "\u001b[31mValueError\u001b[39m: 'date' is not in list"
          ]
        }
      ],
      "source": [
        "fruits.index(\"date\") #index-methode gibt die Index-Position des values date zurück"
      ]
    },
    {
      "cell_type": "code",
      "execution_count": 28,
      "metadata": {
        "id": "s1npR7ICUanR"
      },
      "outputs": [
        {
          "name": "stdout",
          "output_type": "stream",
          "text": [
            "['banana', 'apple', 'cherry']\n"
          ]
        }
      ],
      "source": [
        "fruits.insert(0, \"banana\") #insert-Methode fügt ein value an einer bestimmten Position in der Liste hinzu\n",
        "print(fruits)"
      ]
    },
    {
      "cell_type": "markdown",
      "metadata": {
        "id": "0DQUA3J48yqr"
      },
      "source": [
        "### Slicing and Simultaneous Assignment\n",
        "\n",
        "* **Slicing (Lists):** You can grab a portion of a list using slicing:"
      ]
    },
    {
      "cell_type": "code",
      "execution_count": 29,
      "metadata": {
        "id": "TdSROICC8yqr"
      },
      "outputs": [
        {
          "name": "stdout",
          "output_type": "stream",
          "text": [
            "[20, 30, 40]\n",
            "[10, 20, 30]\n",
            "[30, 40, 50]\n"
          ]
        }
      ],
      "source": [
        "numbers = [10, 20, 30, 40, 50] # Mit Slicing kann man bestimmte values einer Liste rausschneiden\n",
        "print(numbers[1:4]) # from index 1 up to (but not including) 4\n",
        "print(numbers[:3]) # from the beginning up to index 3\n",
        "print(numbers[2:]) # from index 2 to the end"
      ]
    },
    {
      "cell_type": "markdown",
      "metadata": {
        "id": "Rb8z__Vs8yqr"
      },
      "source": [
        "* **Simultaneous Assignment:** You can assign values to multiple variables at once:"
      ]
    },
    {
      "cell_type": "code",
      "execution_count": 30,
      "metadata": {
        "id": "QaOOiPRK8yqr"
      },
      "outputs": [
        {
          "name": "stdout",
          "output_type": "stream",
          "text": [
            "5\n",
            "10\n"
          ]
        }
      ],
      "source": [
        "x, y = 5, 10 #Python weist zwei Variablen gleichzeitig zwei Werten zu (mehrfache Zuweisung)\n",
        "print(x)\n",
        "print(y)"
      ]
    },
    {
      "cell_type": "markdown",
      "metadata": {
        "id": "Lyppf1gr8yqr"
      },
      "source": [
        "* **Unpacking Iterable Values:** If you have a list (or other iterable) with a known number of elements, you can unpack them into separate variables:"
      ]
    },
    {
      "cell_type": "code",
      "execution_count": 31,
      "metadata": {
        "id": "ctXYdoMC8yqr"
      },
      "outputs": [
        {
          "name": "stdout",
          "output_type": "stream",
          "text": [
            "red\n",
            "green\n",
            "blue\n"
          ]
        }
      ],
      "source": [
        "colors = [\"red\", \"green\", \"blue\"]\n",
        "first, second, third = colors #Unpacking zerlegt die Liste colors in mehrere Variablen.\n",
        "print(first)\n",
        "print(second)\n",
        "print(third)"
      ]
    },
    {
      "cell_type": "markdown",
      "metadata": {
        "id": "YmYuBPwao-Iy"
      },
      "source": [
        "* __swap variables__"
      ]
    },
    {
      "cell_type": "code",
      "execution_count": 32,
      "metadata": {
        "id": "g5PUk2IfpF_B"
      },
      "outputs": [
        {
          "name": "stdout",
          "output_type": "stream",
          "text": [
            "a: 1 \t b: 5\n",
            "a: 5 \t b: 1\n"
          ]
        }
      ],
      "source": [
        "a, b = 1, 5\n",
        "print(\"a:\", a, \"\\t\", \"b:\", b)\n",
        "a, b = b, a\n",
        "print(\"a:\", a, \"\\t\", \"b:\", b)"
      ]
    },
    {
      "cell_type": "markdown",
      "metadata": {
        "id": "5yYe3jy78yqr"
      },
      "source": [
        "### Common Errors (Minute 27-30) * **NameError:** Using a variable that hasn't been assigned a value yet."
      ]
    },
    {
      "cell_type": "code",
      "execution_count": null,
      "metadata": {
        "id": "9-AyqvOk8yqr"
      },
      "outputs": [
        {
          "ename": "NameError",
          "evalue": "name 'undefined_variable' is not defined",
          "output_type": "error",
          "traceback": [
            "\u001b[31m---------------------------------------------------------------------------\u001b[39m",
            "\u001b[31mNameError\u001b[39m                                 Traceback (most recent call last)",
            "\u001b[36mCell\u001b[39m\u001b[36m \u001b[39m\u001b[32mIn[31]\u001b[39m\u001b[32m, line 1\u001b[39m\n\u001b[32m----> \u001b[39m\u001b[32m1\u001b[39m \u001b[38;5;28mprint\u001b[39m(\u001b[43mundefined_variable\u001b[49m) \u001b[38;5;66;03m# This would cause a NameError\u001b[39;00m\n",
            "\u001b[31mNameError\u001b[39m: name 'undefined_variable' is not defined"
          ]
        }
      ],
      "source": [
        "print(undefined_variable) # This would cause a NameError, Variable wurde vorher nicht definiert"
      ]
    },
    {
      "cell_type": "markdown",
      "metadata": {
        "id": "fwr7G8M88yqr"
      },
      "source": [
        "* **TypeError:** Trying to perform an operation on incompatible data types."
      ]
    },
    {
      "cell_type": "code",
      "execution_count": 32,
      "metadata": {
        "id": "DwO3mbYQ8yqr"
      },
      "outputs": [
        {
          "ename": "TypeError",
          "evalue": "can only concatenate str (not \"int\") to str",
          "output_type": "error",
          "traceback": [
            "\u001b[31m---------------------------------------------------------------------------\u001b[39m",
            "\u001b[31mTypeError\u001b[39m                                 Traceback (most recent call last)",
            "\u001b[36mCell\u001b[39m\u001b[36m \u001b[39m\u001b[32mIn[32]\u001b[39m\u001b[32m, line 1\u001b[39m\n\u001b[32m----> \u001b[39m\u001b[32m1\u001b[39m result = \u001b[33;43m\"\u001b[39;49m\u001b[33;43m5\u001b[39;49m\u001b[33;43m\"\u001b[39;49m\u001b[43m \u001b[49m\u001b[43m+\u001b[49m\u001b[43m \u001b[49m\u001b[32;43m3\u001b[39;49m \u001b[38;5;66;03m# This would cause a TypeError\u001b[39;00m\n",
            "\u001b[31mTypeError\u001b[39m: can only concatenate str (not \"int\") to str"
          ]
        }
      ],
      "source": [
        "result = \"5\" + 3 # This would cause a TypeError"
      ]
    },
    {
      "cell_type": "code",
      "execution_count": 33,
      "metadata": {
        "id": "shBWdbNvWj53"
      },
      "outputs": [
        {
          "name": "stdout",
          "output_type": "stream",
          "text": [
            "abc !!\n"
          ]
        }
      ],
      "source": [
        "print(\"abc\" + \" !!\")"
      ]
    },
    {
      "cell_type": "markdown",
      "metadata": {
        "id": "nUXZq5Qf8yqr"
      },
      "source": [
        "* **IndexError:** Trying to access an index in a list that's out of bounds."
      ]
    },
    {
      "cell_type": "code",
      "execution_count": 34,
      "metadata": {
        "id": "kqMMcvcB8yqr"
      },
      "outputs": [
        {
          "ename": "IndexError",
          "evalue": "list index out of range",
          "output_type": "error",
          "traceback": [
            "\u001b[31m---------------------------------------------------------------------------\u001b[39m",
            "\u001b[31mIndexError\u001b[39m                                Traceback (most recent call last)",
            "\u001b[36mCell\u001b[39m\u001b[36m \u001b[39m\u001b[32mIn[34]\u001b[39m\u001b[32m, line 2\u001b[39m\n\u001b[32m      1\u001b[39m my_list = [\u001b[32m1\u001b[39m, \u001b[32m2\u001b[39m, \u001b[32m3\u001b[39m]\n\u001b[32m----> \u001b[39m\u001b[32m2\u001b[39m \u001b[38;5;28mprint\u001b[39m(\u001b[43mmy_list\u001b[49m\u001b[43m[\u001b[49m\u001b[32;43m3\u001b[39;49m\u001b[43m]\u001b[49m) \u001b[38;5;66;03m# This would cause an IndexError\u001b[39;00m\n",
            "\u001b[31mIndexError\u001b[39m: list index out of range"
          ]
        }
      ],
      "source": [
        "my_list = [1, 2, 3]\n",
        "print(my_list[3]) # This would cause an IndexError"
      ]
    },
    {
      "cell_type": "markdown",
      "metadata": {
        "id": "ZN2cLevu8yqr"
      },
      "source": [
        "* **KeyError:** Trying to access a key in a dictionary that doesn't exist using square bracket notation."
      ]
    },
    {
      "cell_type": "code",
      "execution_count": 35,
      "metadata": {
        "id": "gPgaiaDE8yqr"
      },
      "outputs": [
        {
          "ename": "KeyError",
          "evalue": "'c'",
          "output_type": "error",
          "traceback": [
            "\u001b[31m---------------------------------------------------------------------------\u001b[39m",
            "\u001b[31mKeyError\u001b[39m                                  Traceback (most recent call last)",
            "\u001b[36mCell\u001b[39m\u001b[36m \u001b[39m\u001b[32mIn[35]\u001b[39m\u001b[32m, line 2\u001b[39m\n\u001b[32m      1\u001b[39m my_dict = {\u001b[33m\"\u001b[39m\u001b[33ma\u001b[39m\u001b[33m\"\u001b[39m: \u001b[32m1\u001b[39m, \u001b[33m\"\u001b[39m\u001b[33mb\u001b[39m\u001b[33m\"\u001b[39m: \u001b[32m2\u001b[39m}\n\u001b[32m----> \u001b[39m\u001b[32m2\u001b[39m \u001b[38;5;28mprint\u001b[39m(\u001b[43mmy_dict\u001b[49m\u001b[43m[\u001b[49m\u001b[33;43m\"\u001b[39;49m\u001b[33;43mc\u001b[39;49m\u001b[33;43m\"\u001b[39;49m\u001b[43m]\u001b[49m) \u001b[38;5;66;03m# This would cause a KeyError\u001b[39;00m\n",
            "\u001b[31mKeyError\u001b[39m: 'c'"
          ]
        }
      ],
      "source": [
        "my_dict = {\"a\": 1, \"b\": 2}\n",
        "print(my_dict[\"c\"]) # This would cause a KeyError"
      ]
    },
    {
      "cell_type": "markdown",
      "metadata": {
        "id": "Yo3EKmJoFj-A"
      },
      "source": [
        "* **ValueError:** Trying to unpack not enough values."
      ]
    },
    {
      "cell_type": "code",
      "execution_count": 36,
      "metadata": {
        "id": "GAZKsvo0Ff8o"
      },
      "outputs": [
        {
          "ename": "ValueError",
          "evalue": "not enough values to unpack (expected 4, got 3)",
          "output_type": "error",
          "traceback": [
            "\u001b[31m---------------------------------------------------------------------------\u001b[39m",
            "\u001b[31mValueError\u001b[39m                                Traceback (most recent call last)",
            "\u001b[36mCell\u001b[39m\u001b[36m \u001b[39m\u001b[32mIn[36]\u001b[39m\u001b[32m, line 2\u001b[39m\n\u001b[32m      1\u001b[39m colors = [\u001b[33m\"\u001b[39m\u001b[33mred\u001b[39m\u001b[33m\"\u001b[39m, \u001b[33m\"\u001b[39m\u001b[33mgreen\u001b[39m\u001b[33m\"\u001b[39m, \u001b[33m\"\u001b[39m\u001b[33mblue\u001b[39m\u001b[33m\"\u001b[39m]\n\u001b[32m----> \u001b[39m\u001b[32m2\u001b[39m first, second, third, forth = colors\n\u001b[32m      3\u001b[39m \u001b[38;5;28mprint\u001b[39m(first)\n\u001b[32m      4\u001b[39m \u001b[38;5;28mprint\u001b[39m(second)\n",
            "\u001b[31mValueError\u001b[39m: not enough values to unpack (expected 4, got 3)"
          ]
        }
      ],
      "source": [
        "colors = [\"red\", \"green\", \"blue\"]\n",
        "first, second, third, forth = colors\n",
        "print(first)\n",
        "print(second)\n",
        "print(third)"
      ]
    },
    {
      "cell_type": "markdown",
      "metadata": {
        "id": "wZzcEq2yX5aU"
      },
      "source": [
        "### Import"
      ]
    },
    {
      "cell_type": "code",
      "execution_count": 34,
      "metadata": {
        "id": "LaS7JQNzyNkS"
      },
      "outputs": [],
      "source": [
        "import math #Importiere math-modul, enthält eine Sammlung mathematischer Funktionen und Konstanten "
      ]
    },
    {
      "cell_type": "code",
      "execution_count": 35,
      "metadata": {
        "id": "1t-TeABNyNiI"
      },
      "outputs": [
        {
          "data": {
            "text/plain": [
              "2.718281828459045"
            ]
          },
          "execution_count": 35,
          "metadata": {},
          "output_type": "execute_result"
        }
      ],
      "source": [
        "math.exp(1)"
      ]
    },
    {
      "cell_type": "code",
      "execution_count": 36,
      "metadata": {
        "id": "jhx9aYF3zUHK"
      },
      "outputs": [],
      "source": [
        "import itertools as it2 #itertools-modul bietet viele Hilfsfunktionen für Schleifen, Kombinationen, Wiederholungen etc. / as = verkürzter Alias-Name für das Modul"
      ]
    },
    {
      "cell_type": "code",
      "execution_count": 37,
      "metadata": {
        "id": "eyZz9WZczUE7"
      },
      "outputs": [
        {
          "data": {
            "text/plain": [
              "[(1, 1), (1, 2), (1, 3), (2, 2), (2, 3), (3, 3)]"
            ]
          },
          "execution_count": 37,
          "metadata": {},
          "output_type": "execute_result"
        }
      ],
      "source": [
        "list(it2.combinations_with_replacement([1, 2, 3], 2)) #alles was mit einem Namen aufgerufen wird und runde Klammern hat ist in der Regel eine Funktion\n",
        "# combinations_with_replacement() Funktion erstellt alle möglichen Kombinationen von Länge 2\n",
        "# list() Funktion wandelt den Iterator in eine Liste um"
      ]
    },
    {
      "cell_type": "markdown",
      "metadata": {
        "id": "Jovma-cEymqH"
      },
      "source": [
        "### PIP package manager"
      ]
    },
    {
      "cell_type": "code",
      "execution_count": null,
      "metadata": {
        "id": "F_NZ4bZRylbN"
      },
      "outputs": [
        {
          "name": "stdout",
          "output_type": "stream",
          "text": [
            "pip 24.0 from C:\\Program Files\\WindowsApps\\PythonSoftwareFoundation.Python.3.11_3.11.2544.0_x64__qbz5n2kfra8p0\\Lib\\site-packages\\pip (python 3.11)\n",
            "\n"
          ]
        }
      ],
      "source": [
        "!pip --version #Das ! bedeutet (Führe einen Shell-/Terminal-Befehl aus.“, nicht Python-Code)"
      ]
    },
    {
      "cell_type": "code",
      "execution_count": null,
      "metadata": {
        "id": "knLBUGPmytm-"
      },
      "outputs": [
        {
          "name": "stdout",
          "output_type": "stream",
          "text": [
            "Requirement already satisfied: pandas in c:\\users\\namro\\appdata\\local\\packages\\pythonsoftwarefoundation.python.3.11_qbz5n2kfra8p0\\localcache\\local-packages\\python311\\site-packages (2.2.3)\n",
            "Requirement already satisfied: numpy>=1.23.2 in c:\\users\\namro\\appdata\\local\\packages\\pythonsoftwarefoundation.python.3.11_qbz5n2kfra8p0\\localcache\\local-packages\\python311\\site-packages (from pandas) (2.0.2)\n",
            "Requirement already satisfied: python-dateutil>=2.8.2 in c:\\users\\namro\\appdata\\local\\packages\\pythonsoftwarefoundation.python.3.11_qbz5n2kfra8p0\\localcache\\local-packages\\python311\\site-packages (from pandas) (2.9.0.post0)\n",
            "Requirement already satisfied: pytz>=2020.1 in c:\\users\\namro\\appdata\\local\\packages\\pythonsoftwarefoundation.python.3.11_qbz5n2kfra8p0\\localcache\\local-packages\\python311\\site-packages (from pandas) (2025.2)\n",
            "Requirement already satisfied: tzdata>=2022.7 in c:\\users\\namro\\appdata\\local\\packages\\pythonsoftwarefoundation.python.3.11_qbz5n2kfra8p0\\localcache\\local-packages\\python311\\site-packages (from pandas) (2025.2)\n",
            "Requirement already satisfied: six>=1.5 in c:\\users\\namro\\appdata\\local\\packages\\pythonsoftwarefoundation.python.3.11_qbz5n2kfra8p0\\localcache\\local-packages\\python311\\site-packages (from python-dateutil>=2.8.2->pandas) (1.16.0)\n"
          ]
        },
        {
          "name": "stderr",
          "output_type": "stream",
          "text": [
            "\n",
            "[notice] A new release of pip is available: 24.0 -> 25.1.1\n",
            "[notice] To update, run: C:\\Users\\namro\\AppData\\Local\\Microsoft\\WindowsApps\\PythonSoftwareFoundation.Python.3.11_qbz5n2kfra8p0\\python.exe -m pip install --upgrade pip\n"
          ]
        }
      ],
      "source": [
        "!pip install pandas # Python-Packet pandas wird installiert (Bibliothek für Datenanalyse)"
      ]
    },
    {
      "cell_type": "code",
      "execution_count": null,
      "metadata": {
        "id": "v8DgP5bOyxwj"
      },
      "outputs": [
        {
          "name": "stdout",
          "output_type": "stream",
          "text": [
            "Name: pandas\n",
            "Version: 2.2.3\n",
            "Summary: Powerful data structures for data analysis, time series, and statistics\n",
            "Home-page: https://pandas.pydata.org\n",
            "Author: \n",
            "Author-email: The Pandas Development Team <pandas-dev@python.org>\n",
            "License: BSD 3-Clause License\n",
            "\n",
            "Copyright (c) 2008-2011, AQR Capital Management, LLC, Lambda Foundry, Inc. and PyData Development Team\n",
            "All rights reserved.\n",
            "\n",
            "Copyright (c) 2011-2023, Open source contributors.\n",
            "\n",
            "Redistribution and use in source and binary forms, with or without\n",
            "modification, are permitted provided that the following conditions are met:\n",
            "\n",
            "* Redistributions of source code must retain the above copyright notice, this\n",
            "  list of conditions and the following disclaimer.\n",
            "\n",
            "* Redistributions in binary form must reproduce the above copyright notice,\n",
            "  this list of conditions and the following disclaimer in the documentation\n",
            "  and/or other materials provided with the distribution.\n",
            "\n",
            "* Neither the name of the copyright holder nor the names of its\n",
            "  contributors may be used to endorse or promote products derived from\n",
            "  this software without specific prior written permission.\n",
            "\n",
            "THIS SOFTWARE IS PROVIDED BY THE COPYRIGHT HOLDERS AND CONTRIBUTORS \"AS IS\"\n",
            "AND ANY EXPRESS OR IMPLIED WARRANTIES, INCLUDING, BUT NOT LIMITED TO, THE\n",
            "IMPLIED WARRANTIES OF MERCHANTABILITY AND FITNESS FOR A PARTICULAR PURPOSE ARE\n",
            "DISCLAIMED. IN NO EVENT SHALL THE COPYRIGHT HOLDER OR CONTRIBUTORS BE LIABLE\n",
            "FOR ANY DIRECT, INDIRECT, INCIDENTAL, SPECIAL, EXEMPLARY, OR CONSEQUENTIAL\n",
            "DAMAGES (INCLUDING, BUT NOT LIMITED TO, PROCUREMENT OF SUBSTITUTE GOODS OR\n",
            "SERVICES; LOSS OF USE, DATA, OR PROFITS; OR BUSINESS INTERRUPTION) HOWEVER\n",
            "CAUSED AND ON ANY THEORY OF LIABILITY, WHETHER IN CONTRACT, STRICT LIABILITY,\n",
            "OR TORT (INCLUDING NEGLIGENCE OR OTHERWISE) ARISING IN ANY WAY OUT OF THE USE\n",
            "OF THIS SOFTWARE, EVEN IF ADVISED OF THE POSSIBILITY OF SUCH DAMAGE.\n",
            "Location: C:\\Users\\namro\\AppData\\Local\\Packages\\PythonSoftwareFoundation.Python.3.11_qbz5n2kfra8p0\\LocalCache\\local-packages\\Python311\\site-packages\n",
            "Requires: numpy, python-dateutil, pytz, tzdata\n",
            "Required-by: \n"
          ]
        }
      ],
      "source": [
        "!pip show pandas # Übersicht der wichtigsten Information über das installierte pandas-Paket/Bibliothek"
      ]
    },
    {
      "cell_type": "code",
      "execution_count": null,
      "metadata": {
        "id": "3HoG4bDSzHUW"
      },
      "outputs": [
        {
          "name": "stdout",
          "output_type": "stream",
          "text": [
            "absl-py==2.1.0\n",
            "asttokens==3.0.0\n",
            "astunparse==1.6.3\n",
            "certifi==2024.12.14\n",
            "charset-normalizer==3.4.1\n",
            "colorama==0.4.6\n",
            "comm==0.2.2\n",
            "contourpy==1.3.0\n",
            "cycler==0.12.1\n",
            "debugpy==1.8.14\n",
            "decorator==5.2.1\n",
            "executing==2.2.0\n",
            "flatbuffers==24.12.23\n",
            "fonttools==4.54.1\n",
            "gast==0.6.0\n",
            "google-pasta==0.2.0\n",
            "grpcio==1.69.0\n",
            "h5py==3.12.1\n",
            "idna==3.10\n",
            "ipykernel==6.29.5\n",
            "ipython==9.2.0\n",
            "ipython_pygments_lexers==1.1.1\n",
            "jedi==0.19.2\n",
            "joblib==1.4.2\n",
            "jupyter_client==8.6.3\n",
            "jupyter_core==5.7.2\n",
            "keras==3.8.0\n",
            "kiwisolver==1.4.7\n",
            "libclang==18.1.1\n",
            "Markdown==3.7\n",
            "markdown-it-py==3.0.0\n",
            "MarkupSafe==3.0.2\n",
            "matplotlib==3.9.2\n",
            "matplotlib-inline==0.1.7\n",
            "mdurl==0.1.2\n",
            "ml-dtypes==0.4.1\n",
            "namex==0.0.8\n",
            "nest-asyncio==1.6.0\n",
            "numpy==2.0.2\n",
            "opt_einsum==3.4.0\n",
            "optree==0.13.1\n",
            "packaging==24.2\n",
            "pandas==2.2.3\n",
            "parso==0.8.4\n",
            "pillow==11.0.0\n",
            "platformdirs==4.3.8\n",
            "prompt_toolkit==3.0.51\n",
            "protobuf==5.29.3\n",
            "psutil==7.0.0\n",
            "pure_eval==0.2.3\n",
            "Pygments==2.19.1\n",
            "pyparsing==3.2.0\n",
            "python-dateutil==2.9.0.post0\n",
            "pytz==2025.2\n",
            "pywin32==310\n",
            "pyzmq==26.4.0\n",
            "requests==2.32.3\n",
            "rich==13.9.4\n",
            "scikit-learn==1.6.1\n",
            "scipy==1.15.2\n",
            "six==1.16.0\n",
            "stack-data==0.6.3\n",
            "tensorboard==2.18.0\n",
            "tensorboard-data-server==0.7.2\n",
            "tensorflow @ file:///C:/Users/namro/Downloads/tensorflow-2.18.0-cp311-cp311-win_amd64.whl#sha256=6e8b0f499ef0b7652480a58e358a73844932047f21c42c56f7f3bdcaf0803edc\n",
            "tensorflow-io-gcs-filesystem==0.31.0\n",
            "tensorflow_intel==2.18.0\n",
            "termcolor==2.5.0\n",
            "threadpoolctl==3.6.0\n",
            "tornado==6.4.2\n",
            "traitlets==5.14.3\n",
            "typing_extensions==4.12.2\n",
            "tzdata==2025.2\n",
            "urllib3==2.3.0\n",
            "wcwidth==0.2.13\n",
            "Werkzeug==3.1.3\n",
            "wrapt==1.17.1\n"
          ]
        }
      ],
      "source": [
        "!pip freeze # zeigt alle installierten Python-Pakete im aktuellen Projekt (Überblick welche Packete gerade installiert sind + Versionen)"
      ]
    },
    {
      "cell_type": "code",
      "execution_count": 42,
      "metadata": {
        "id": "ybaK6UaXyyNi"
      },
      "outputs": [
        {
          "name": "stdout",
          "output_type": "stream",
          "text": [
            "Found existing installation: pandas 2.2.3\n",
            "Uninstalling pandas-2.2.3:\n",
            "  Successfully uninstalled pandas-2.2.3\n"
          ]
        }
      ],
      "source": [
        "!pip uninstall pandas -y"
      ]
    },
    {
      "cell_type": "markdown",
      "metadata": {
        "id": "mPc_8AkaX2O1"
      },
      "source": [
        "### User Defined Function"
      ]
    },
    {
      "cell_type": "code",
      "execution_count": 43,
      "metadata": {
        "id": "shRqqJPQzsBH"
      },
      "outputs": [],
      "source": [
        "def function_name( args ):\n",
        "    '''Your function description here\n",
        "    args: argument description and type\n",
        "    return: return description and type'''\n",
        "\n",
        "    # what your function will do\n",
        "\n",
        "    # == exact match\n",
        "    # != not equal\n",
        "    # < bigger than\n",
        "    # <= bigger than or equal to\n",
        "\n",
        "    if type(args) == str:\n",
        "        args = args.lower()\n",
        "\n",
        "    return args"
      ]
    },
    {
      "cell_type": "code",
      "execution_count": 45,
      "metadata": {
        "id": "E7yngGxDzr-7"
      },
      "outputs": [
        {
          "name": "stdout",
          "output_type": "stream",
          "text": [
            "hi\n"
          ]
        }
      ],
      "source": [
        "print(function_name(\"HI\"))"
      ]
    },
    {
      "cell_type": "code",
      "execution_count": null,
      "metadata": {
        "id": "7Z6mTaTrzr7d"
      },
      "outputs": [
        {
          "name": "stdout",
          "output_type": "stream",
          "text": [
            "Your function description here\n",
            "    args: argument description and type\n",
            "    return: return description and type\n"
          ]
        }
      ],
      "source": [
        "print(function_name.__doc__) #__doc__ ist ein spezielles Attribut von Funktionen. Es enthält den Textblock in dreifachen ''' oder \"\"\""
      ]
    },
    {
      "cell_type": "code",
      "execution_count": 47,
      "metadata": {
        "id": "Iu2LcB_m0L_T"
      },
      "outputs": [],
      "source": [
        "def combination_and_cartasian_product(list_of_numbers):\n",
        "    '''Get a list of numbers and return the cartesian product\n",
        "    and combination without replacement'''\n",
        "\n",
        "    prod = list(it2.product(list_of_numbers, repeat=2))\n",
        "    comb = list(it2.combinations(list_of_numbers, 2))\n",
        "\n",
        "    return prod, comb"
      ]
    },
    {
      "cell_type": "code",
      "execution_count": 48,
      "metadata": {
        "id": "fSEpLirN0L9i"
      },
      "outputs": [],
      "source": [
        "res_product, res_combination = combination_and_cartasian_product([2, 6, 10])"
      ]
    },
    {
      "cell_type": "code",
      "execution_count": 49,
      "metadata": {
        "id": "7LGmnH5Nzr5L"
      },
      "outputs": [
        {
          "data": {
            "text/plain": [
              "[(2, 2), (2, 6), (2, 10), (6, 2), (6, 6), (6, 10), (10, 2), (10, 6), (10, 10)]"
            ]
          },
          "execution_count": 49,
          "metadata": {},
          "output_type": "execute_result"
        }
      ],
      "source": [
        "res_product"
      ]
    },
    {
      "cell_type": "code",
      "execution_count": 50,
      "metadata": {
        "id": "1n-jwucbafp-"
      },
      "outputs": [
        {
          "data": {
            "text/plain": [
              "[(2, 6), (2, 10), (6, 10)]"
            ]
          },
          "execution_count": 50,
          "metadata": {},
          "output_type": "execute_result"
        }
      ],
      "source": [
        "res_combination"
      ]
    },
    {
      "cell_type": "code",
      "execution_count": null,
      "metadata": {
        "id": "GfJRUt6aaoLZ"
      },
      "outputs": [],
      "source": []
    }
  ],
  "metadata": {
    "colab": {
      "private_outputs": true,
      "provenance": []
    },
    "kernelspec": {
      "display_name": "Python 3",
      "name": "python3"
    },
    "language_info": {
      "codemirror_mode": {
        "name": "ipython",
        "version": 3
      },
      "file_extension": ".py",
      "mimetype": "text/x-python",
      "name": "python",
      "nbconvert_exporter": "python",
      "pygments_lexer": "ipython3",
      "version": "3.11.9"
    }
  },
  "nbformat": 4,
  "nbformat_minor": 0
}
