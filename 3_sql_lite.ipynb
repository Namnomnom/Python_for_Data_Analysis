{
 "cells": [
  {
   "cell_type": "markdown",
   "id": "e66ecb07",
   "metadata": {},
   "source": [
    "# Tutorial"
   ]
  },
  {
   "cell_type": "markdown",
   "id": "3517daec",
   "metadata": {},
   "source": [
    "## 1. Database Design and Setup\n",
    "First, we design our database.\n",
    "\n",
    "We need two tables: passengers and flights.\n",
    "\n",
    "A passenger is booked on a flight, so we will link them using the flight_id.\n",
    "\n",
    "- flights: flight_id will be the PRIMARY KEY.\n",
    "- passengers: passenger_id is the PRIMARY KEY, and flight_id is a FOREIGN KEY that points to the flights table."
   ]
  },
  {
   "cell_type": "code",
   "execution_count": 1,
   "id": "f1800b53",
   "metadata": {},
   "outputs": [],
   "source": [
    "import sqlite3\n",
    "\n",
    "# Connect to a database (or create one if it doesn't exist)\n",
    "conn = sqlite3.connect('airport.db')\n",
    "cursor = conn.cursor() # is like a controller or handler for talking to the database / cursor() = talking to the database"
   ]
  },
  {
   "cell_type": "code",
   "execution_count": 2,
   "id": "00f4a1cb",
   "metadata": {},
   "outputs": [
    {
     "name": "stdout",
     "output_type": "stream",
     "text": [
      "Updated database and tables created successfully.\n"
     ]
    }
   ],
   "source": [
    "# Create the updated tables / # leave code lines DROP TABLE... out will create an ERROR since tables already exist in the database, it will raise an error:\n",
    "cursor.executescript(\"\"\"\n",
    "    DROP TABLE IF EXISTS passengers;    --- only for learning \n",
    "    DROP TABLE IF EXISTS flights;       --- only for learning\n",
    "\n",
    "    CREATE TABLE flights (\n",
    "        flight_id INTEGER PRIMARY KEY,\n",
    "        flight_number TEXT NOT NULL,\n",
    "        destination TEXT NOT NULL,\n",
    "        departure_time TEXT, -- TEXT for ISO formatted datetime (YYYY-MM-DD HH:MM:SS)\n",
    "        status TEXT\n",
    "    );\n",
    "\n",
    "    CREATE TABLE passengers (\n",
    "        passenger_id INTEGER PRIMARY KEY,\n",
    "        name TEXT NOT NULL,\n",
    "        assigned_seat TEXT,\n",
    "        flight_id INTEGER,\n",
    "        FOREIGN KEY (flight_id) REFERENCES flights (flight_id)\n",
    "    );\n",
    "\"\"\")\n",
    "\n",
    "print(\"Updated database and tables created successfully.\")\n",
    "conn.commit() # saves all changes i made to the database during the current connection"
   ]
  },
  {
   "cell_type": "markdown",
   "id": "cb2c5c3a",
   "metadata": {},
   "source": [
    "## 2. Inserting Data\n",
    "\n",
    "Adding some flights and passengers."
   ]
  },
  {
   "cell_type": "code",
   "execution_count": 3,
   "id": "91ee8c52",
   "metadata": {},
   "outputs": [
    {
     "name": "stdout",
     "output_type": "stream",
     "text": [
      "New data inserted successfully.\n"
     ]
    }
   ],
   "source": [
    "# Insert data into the flights table\n",
    "flights_data = [\n",
    "    (1, 'BA2490', 'London', '2025-05-26 14:00:00', 'On Time'),\n",
    "    (2, 'LH1020', 'Frankfurt', '2025-05-26 15:30:00', 'Delayed'),\n",
    "    (3, 'AF1234', 'Paris', '2025-05-26 12:15:00', 'On Time'),\n",
    "    (4, 'IB3160', 'Madrid', '2025-05-27 09:00:00', 'Cancelled'),\n",
    "    (5, 'TP1111', 'Lisbon', '2025-05-27 11:00:00', 'On Time') # A flight with no passengers yet\n",
    "]\n",
    "cursor.executemany(\"INSERT INTO flights VALUES (?, ?, ?, ?, ?)\", flights_data)\n",
    "\n",
    "# Insert data into the passengers table\n",
    "passengers_data = [\n",
    "    (101, 'Alice Johnson', '14A', 1),\n",
    "    (102, 'Bob Williams', '21C', 2),\n",
    "    (103, 'Charlie Brown', None, 1),\n",
    "    (104, 'Diana Miller', '18B', 3),\n",
    "    (105, 'Eve Davis', '22F', 2),\n",
    "    (106, 'Frank White', '14B', 1)\n",
    "]\n",
    "cursor.executemany(\"INSERT INTO passengers VALUES (?, ?, ?, ?)\", passengers_data)\n",
    "\n",
    "print(\"New data inserted successfully.\")\n",
    "conn.commit()"
   ]
  },
  {
   "cell_type": "markdown",
   "id": "34725dac",
   "metadata": {},
   "source": [
    "## 3. Filtering with WHERE and IN\n",
    "\n",
    "The WHERE clause is used to filter records based on specific conditions."
   ]
  },
  {
   "cell_type": "code",
   "execution_count": null,
   "id": "acdbf8dc",
   "metadata": {},
   "outputs": [
    {
     "name": "stdout",
     "output_type": "stream",
     "text": [
      "\n",
      "Flight with ID 2: (2, 'LH1020', 'Frankfurt', '2025-05-26 15:30:00', 'Delayed')\n"
     ]
    }
   ],
   "source": [
    "# WHERE with a number: Find flights with a specific ID\n",
    "cursor.execute(\"SELECT * FROM flights WHERE flight_id = 2;\") #cursor.execute() is sending a SQL query to the SQL database\n",
    "print(\"\\nFlight with ID 2:\", cursor.fetchone()) # fetchone() returns the first row of the result set"
   ]
  },
  {
   "cell_type": "code",
   "execution_count": null,
   "id": "0e44ee9e",
   "metadata": {},
   "outputs": [
    {
     "name": "stdout",
     "output_type": "stream",
     "text": [
      "\n",
      "Flights to London: [(1, 'BA2490', 'London', '2025-05-26 14:00:00', 'On Time')]\n"
     ]
    }
   ],
   "source": [
    "# WHERE with text: Find all flights going to London\n",
    "cursor.execute(\"SELECT * FROM flights WHERE destination = 'London';\")\n",
    "print(\"\\nFlights to London:\", cursor.fetchall()) # fetchall() returns all rows of the result set"
   ]
  },
  {
   "cell_type": "code",
   "execution_count": 6,
   "id": "467885c5",
   "metadata": {},
   "outputs": [
    {
     "name": "stdout",
     "output_type": "stream",
     "text": [
      "\n",
      "Flights after 3 PM on May 26th: [(2, 'LH1020', 'Frankfurt', '2025-05-26 15:30:00', 'Delayed'), (4, 'IB3160', 'Madrid', '2025-05-27 09:00:00', 'Cancelled'), (5, 'TP1111', 'Lisbon', '2025-05-27 11:00:00', 'On Time')]\n"
     ]
    }
   ],
   "source": [
    "# WHERE with datetime: Find flights departing after a certain time\n",
    "cursor.execute(\"SELECT * FROM flights WHERE departure_time > '2025-05-26 15:00:00';\")\n",
    "print(\"\\nFlights after 3 PM on May 26th:\", cursor.fetchall())"
   ]
  },
  {
   "cell_type": "code",
   "execution_count": 7,
   "id": "df596618",
   "metadata": {},
   "outputs": [
    {
     "name": "stdout",
     "output_type": "stream",
     "text": [
      "\n",
      "Passengers with no seat: [('Charlie Brown',)]\n"
     ]
    }
   ],
   "source": [
    "# WHERE with NULL: Find passengers without an assigned seat\n",
    "cursor.execute(\"SELECT name FROM passengers WHERE assigned_seat IS NULL;\")\n",
    "print(\"\\nPassengers with no seat:\", cursor.fetchall())"
   ]
  },
  {
   "cell_type": "code",
   "execution_count": null,
   "id": "27bf8c88",
   "metadata": {},
   "outputs": [
    {
     "name": "stdout",
     "output_type": "stream",
     "text": [
      "\n",
      "Flights to Paris or Madrid: [(3, 'AF1234', 'Paris', '2025-05-26 12:15:00', 'On Time'), (4, 'IB3160', 'Madrid', '2025-05-27 09:00:00', 'Cancelled')]\n"
     ]
    }
   ],
   "source": [
    "# IN clause: Find flights to either Paris or Madrid\n",
    "cursor.execute(\"SELECT * FROM flights WHERE destination IN ('Paris', 'Madrid');\")\n",
    "print(\"\\nFlights to Paris or Madrid:\", cursor.fetchall()) # fetchall() returns all rows of the result set"
   ]
  },
  {
   "cell_type": "markdown",
   "id": "60a05046",
   "metadata": {},
   "source": [
    "## 4. Understanding Join Types\n",
    "\n",
    "Joins are used to combine rows from two or more tables based on a related column.\n",
    "\n",
    "INNER JOIN: Selects records that have matching values in both tables. This is the most common join.\n",
    "\n",
    "LEFT JOIN: Selects all records from the left table (flights), and the matched records from the right table (passengers).\n",
    "\n",
    "If there is no match, the result is NULL on the right side. This is useful for finding things like flights with no passengers."
   ]
  },
  {
   "cell_type": "code",
   "execution_count": null,
   "id": "ce1d6d8a",
   "metadata": {},
   "outputs": [
    {
     "name": "stdout",
     "output_type": "stream",
     "text": [
      "\n",
      "Passengers with their flights (INNER JOIN): [('Alice Johnson', 'BA2490', 'London'), ('Bob Williams', 'LH1020', 'Frankfurt'), ('Charlie Brown', 'BA2490', 'London'), ('Diana Miller', 'AF1234', 'Paris'), ('Eve Davis', 'LH1020', 'Frankfurt'), ('Frank White', 'BA2490', 'London')]\n"
     ]
    }
   ],
   "source": [
    "# INNER JOIN: Show passengers and their flight information / usually ids from both tables are used to join\n",
    "inner_join_query = \"\"\"\n",
    "    SELECT p.name, f.flight_number, f.destination\n",
    "    FROM passengers p\n",
    "    INNER JOIN flights f ON p.flight_id = f.flight_id;\n",
    "\"\"\"\n",
    "cursor.execute(inner_join_query) #cursor.execute() is sending a SQL query to the SQL database\n",
    "print(\"\\nPassengers with their flights (INNER JOIN):\", cursor.fetchall()) # fetchall() returns all rows of the result set"
   ]
  },
  {
   "cell_type": "code",
   "execution_count": null,
   "id": "1b9cefbe",
   "metadata": {},
   "outputs": [
    {
     "name": "stdout",
     "output_type": "stream",
     "text": [
      "\n",
      "All flights and their passengers (LEFT JOIN): [('BA2490', 'London', 'Alice Johnson'), ('BA2490', 'London', 'Charlie Brown'), ('BA2490', 'London', 'Frank White'), ('LH1020', 'Frankfurt', 'Bob Williams'), ('LH1020', 'Frankfurt', 'Eve Davis'), ('AF1234', 'Paris', 'Diana Miller'), ('IB3160', 'Madrid', None), ('TP1111', 'Lisbon', None)]\n"
     ]
    }
   ],
   "source": [
    "# LEFT JOIN: Show ALL flights and the passengers on them, if any\n",
    "left_join_query = \"\"\"\n",
    "    SELECT f.flight_number, f.destination, p.name\n",
    "    FROM flights f\n",
    "    LEFT JOIN passengers p ON f.flight_id = p.flight_id;\n",
    "\"\"\"\n",
    "cursor.execute(left_join_query)\n",
    "print(\"\\nAll flights and their passengers (LEFT JOIN):\", cursor.fetchall())"
   ]
  },
  {
   "cell_type": "markdown",
   "id": "6345f054",
   "metadata": {},
   "source": [
    "## 5. Filtering Groups with HAVING\n",
    "\n",
    "We've used GROUP BY to group rows.\n",
    "\n",
    "But what if you want to filter these groups? You can't use WHERE because WHERE filters rows before they are grouped.\n",
    "\n",
    "Instead, you use the HAVING clause. HAVING filters groups after the aggregation function has been applied.\n",
    "\n",
    "Rule: WHERE filters rows, HAVING filters groups"
   ]
  },
  {
   "cell_type": "code",
   "execution_count": 11,
   "id": "bb83e247",
   "metadata": {},
   "outputs": [
    {
     "name": "stdout",
     "output_type": "stream",
     "text": [
      "Flights with more than 1 passenger: [('BA2490', 3), ('LH1020', 2)]\n"
     ]
    }
   ],
   "source": [
    "# Find flights that have MORE THAN 1 passenger.\n",
    "# 1. JOIN the tables\n",
    "# 2. GROUP the results by flight\n",
    "# 3. COUNT the passengers in each group\n",
    "# 4. HAVING filters these groups to keep only those with a count > 1\n",
    "\n",
    "query = \"\"\"\n",
    "    SELECT\n",
    "        f.flight_number,\n",
    "        COUNT(p.passenger_id) AS passenger_count\n",
    "    FROM\n",
    "        flights f\n",
    "    JOIN\n",
    "        passengers p ON f.flight_id = p.flight_id\n",
    "    GROUP BY\n",
    "        f.flight_id\n",
    "    HAVING\n",
    "        passenger_count > 1;\n",
    "\"\"\"\n",
    "\n",
    "cursor.execute(query)\n",
    "print(\"Flights with more than 1 passenger:\", cursor.fetchall())"
   ]
  },
  {
   "cell_type": "markdown",
   "id": "b8e1edc8",
   "metadata": {},
   "source": [
    "## 6. A Critical Warning: SQL Injection ⚠️\n",
    "\n",
    "SQL Injection is a major security vulnerability.\n",
    "\n",
    "It happens when an attacker can manipulate your SQL queries by inserting malicious code into the data your program uses.\n",
    "\n",
    "NEVER build queries using string formatting like f-strings or +.\n",
    "\n",
    "TO READ: [SQL Injection in python](https://realpython.com/prevent-python-sql-injection/)"
   ]
  },
  {
   "cell_type": "code",
   "execution_count": 27,
   "id": "f776fde9",
   "metadata": {},
   "outputs": [],
   "source": [
    "# Very Important: Close the connection\n",
    "conn.close()"
   ]
  },
  {
   "cell_type": "markdown",
   "id": "88b409a4",
   "metadata": {},
   "source": [
    "## 7. SQL Alchemy"
   ]
  },
  {
   "cell_type": "code",
   "execution_count": 38,
   "id": "6f410ef0",
   "metadata": {},
   "outputs": [
    {
     "name": "stdout",
     "output_type": "stream",
     "text": [
      "Requirement already satisfied: sqlalchemy in c:\\users\\namro\\appdata\\local\\packages\\pythonsoftwarefoundation.python.3.11_qbz5n2kfra8p0\\localcache\\local-packages\\python311\\site-packages (2.0.41)\n",
      "Requirement already satisfied: greenlet>=1 in c:\\users\\namro\\appdata\\local\\packages\\pythonsoftwarefoundation.python.3.11_qbz5n2kfra8p0\\localcache\\local-packages\\python311\\site-packages (from sqlalchemy) (3.2.2)\n",
      "Requirement already satisfied: typing-extensions>=4.6.0 in c:\\users\\namro\\appdata\\local\\packages\\pythonsoftwarefoundation.python.3.11_qbz5n2kfra8p0\\localcache\\local-packages\\python311\\site-packages (from sqlalchemy) (4.12.2)\n"
     ]
    },
    {
     "name": "stderr",
     "output_type": "stream",
     "text": [
      "\n",
      "[notice] A new release of pip is available: 24.0 -> 25.1.1\n",
      "[notice] To update, run: C:\\Users\\namro\\AppData\\Local\\Microsoft\\WindowsApps\\PythonSoftwareFoundation.Python.3.11_qbz5n2kfra8p0\\python.exe -m pip install --upgrade pip\n"
     ]
    }
   ],
   "source": [
    " !pip install sqlalchemy"
   ]
  },
  {
   "cell_type": "code",
   "execution_count": 39,
   "id": "0b2d0a45",
   "metadata": {},
   "outputs": [],
   "source": [
    "from sqlalchemy import create_engine # create_engine is a function that lets you set up a connection to a database (like SQLite, MySQL, PostgreSQL, etc.) using SQLAlchemy\n",
    "\n",
    "engine = create_engine(\"sqlite:///airport.db\")"
   ]
  },
  {
   "cell_type": "code",
   "execution_count": 40,
   "id": "0edcc187",
   "metadata": {},
   "outputs": [
    {
     "name": "stderr",
     "output_type": "stream",
     "text": [
      "C:\\Users\\namro\\AppData\\Local\\Temp\\ipykernel_13512\\3627678555.py:4: MovedIn20Warning: The ``declarative_base()`` function is now available as sqlalchemy.orm.declarative_base(). (deprecated since: 2.0) (Background on SQLAlchemy 2.0 at: https://sqlalche.me/e/b8d9)\n",
      "  Base = declarative_base()\n"
     ]
    }
   ],
   "source": [
    "from sqlalchemy.ext.declarative import declarative_base # declarative_base is a function that defines database tables as python classes\n",
    "\n",
    "# Base class for declarative models\n",
    "Base = declarative_base()"
   ]
  },
  {
   "cell_type": "code",
   "execution_count": 41,
   "id": "ffa221bc",
   "metadata": {},
   "outputs": [],
   "source": [
    "# This code sets up the database schema in Python. It tells Python and SQLAlchemy how the database tables should look and how they relate to each other.\n",
    "\n",
    "from sqlalchemy import Column, Integer, String, ForeignKey\n",
    "from sqlalchemy.orm import relationship, sessionmaker\n",
    "\n",
    "\n",
    "# Define the Flights table\n",
    "class Flight(Base):\n",
    "    __tablename__ = 'flights'\n",
    "\n",
    "    flight_id = Column(Integer, primary_key=True)\n",
    "    flight_number = Column(String, nullable=False)\n",
    "    destination = Column(String, nullable=False)\n",
    "    departure_time = Column(String)  # Stored as ISO formatted text\n",
    "    status = Column(String)\n",
    "\n",
    "    # One-to-many relationship to passengers\n",
    "    passengers = relationship(\"Passenger\", back_populates=\"flight\")\n",
    "\n",
    "# Define the Passengers table\n",
    "class Passenger(Base):\n",
    "    __tablename__ = 'passengers'\n",
    "\n",
    "    passenger_id = Column(Integer, primary_key=True)\n",
    "    name = Column(String, nullable=False)\n",
    "    assigned_seat = Column(String)\n",
    "    flight_id = Column(Integer, ForeignKey('flights.flight_id'))\n",
    "\n",
    "    # Relationship to flight\n",
    "    flight = relationship(\"Flight\", back_populates=\"passengers\")"
   ]
  },
  {
   "cell_type": "code",
   "execution_count": 42,
   "id": "1d458804",
   "metadata": {},
   "outputs": [
    {
     "name": "stdout",
     "output_type": "stream",
     "text": [
      "Updated database and tables created successfully.\n"
     ]
    }
   ],
   "source": [
    "# Create the tables in the database\n",
    "Base.metadata.drop_all(engine)  # Only for learning/demo purposes\n",
    "Base.metadata.create_all(engine)\n",
    "\n",
    "print(\"Updated database and tables created successfully.\")"
   ]
  },
  {
   "cell_type": "code",
   "execution_count": 43,
   "id": "5f251d82",
   "metadata": {},
   "outputs": [
    {
     "name": "stdout",
     "output_type": "stream",
     "text": [
      "New data inserted successfully.\n"
     ]
    }
   ],
   "source": [
    "from sqlalchemy.orm import sessionmaker\n",
    "\n",
    "# Set up the session\n",
    "Session = sessionmaker(bind=engine)\n",
    "session = Session()\n",
    "\n",
    "# Insert flights\n",
    "flights_data = [\n",
    "    Flight(flight_id=1, flight_number='BA2490', destination='London', departure_time='2025-05-26 14:00:00', status='On Time'),\n",
    "    Flight(flight_id=2, flight_number='LH1020', destination='Frankfurt', departure_time='2025-05-26 15:30:00', status='Delayed'),\n",
    "    Flight(flight_id=3, flight_number='AF1234', destination='Paris', departure_time='2025-05-26 12:15:00', status='On Time'),\n",
    "    Flight(flight_id=4, flight_number='IB3160', destination='Madrid', departure_time='2025-05-27 09:00:00', status='Cancelled'),\n",
    "    Flight(flight_id=5, flight_number='TP1111', destination='Lisbon', departure_time='2025-05-27 11:00:00', status='On Time')\n",
    "]\n",
    "\n",
    "session.add_all(flights_data)\n",
    "\n",
    "# Insert passengers\n",
    "passengers_data = [\n",
    "    Passenger(passenger_id=101, name='Alice Johnson', assigned_seat='14A', flight_id=1),\n",
    "    Passenger(passenger_id=102, name='Bob Williams', assigned_seat='21C', flight_id=2),\n",
    "    Passenger(passenger_id=103, name='Charlie Brown', assigned_seat=None, flight_id=1),\n",
    "    Passenger(passenger_id=104, name='Diana Miller', assigned_seat='18B', flight_id=3),\n",
    "    Passenger(passenger_id=105, name='Eve Davis', assigned_seat='22F', flight_id=2),\n",
    "    Passenger(passenger_id=106, name='Frank White', assigned_seat='14B', flight_id=1)\n",
    "]\n",
    "\n",
    "session.add_all(passengers_data)\n",
    "session.commit()\n",
    "\n",
    "print(\"New data inserted successfully.\")\n"
   ]
  },
  {
   "cell_type": "code",
   "execution_count": null,
   "id": "a055fa7b",
   "metadata": {},
   "outputs": [],
   "source": [
    "# this code is querying the database to find flights that have more than one passenger.\n",
    "\n",
    "from sqlalchemy import func\n",
    "\n",
    "results = (\n",
    "    session.query( #starts a query to the database\n",
    "        Flight.flight_number, # selects the flight number to display\n",
    "        func.count(Passenger.passenger_id).label(\"passenger_count\") # counts the number of passengers (via Passenger.passenger_id) and labels it as \"passenger_count\"\n",
    "    ).join(Passenger) # joins the Flight and Passenger tables\n",
    "    .group_by(Flight.flight_id) # groups the results by flight ID\n",
    "    .having(func.count(Passenger.passenger_id) > 1) # filters the groups to keep only those with more than 1 passenger\n",
    "    .all() # executes the query and retrieves all results\n",
    ")"
   ]
  },
  {
   "cell_type": "code",
   "execution_count": 46,
   "id": "a02dd572",
   "metadata": {},
   "outputs": [
    {
     "name": "stdout",
     "output_type": "stream",
     "text": [
      "\n",
      "Flights with more than one passenger:\n",
      "Flight BA2490 has 3 passengers.\n",
      "Flight LH1020 has 2 passengers.\n"
     ]
    }
   ],
   "source": [
    "print(\"\\nFlights with more than one passenger:\")\n",
    "for flight_number, count in results:\n",
    "    print(f\"Flight {flight_number} has {count} passengers.\")"
   ]
  },
  {
   "cell_type": "code",
   "execution_count": 47,
   "id": "338b2d9d",
   "metadata": {},
   "outputs": [],
   "source": [
    "engine.dispose()  # Close the connection to the database"
   ]
  },
  {
   "cell_type": "markdown",
   "id": "b17b36c0",
   "metadata": {},
   "source": [
    "## 8. Read data with Pandas"
   ]
  },
  {
   "cell_type": "code",
   "execution_count": 1,
   "id": "0505ada6",
   "metadata": {},
   "outputs": [
    {
     "name": "stdout",
     "output_type": "stream",
     "text": [
      "Requirement already satisfied: pandas in c:\\users\\namro\\appdata\\local\\packages\\pythonsoftwarefoundation.python.3.11_qbz5n2kfra8p0\\localcache\\local-packages\\python311\\site-packages (2.2.3)\n",
      "Requirement already satisfied: numpy>=1.23.2 in c:\\users\\namro\\appdata\\local\\packages\\pythonsoftwarefoundation.python.3.11_qbz5n2kfra8p0\\localcache\\local-packages\\python311\\site-packages (from pandas) (2.0.2)\n",
      "Requirement already satisfied: python-dateutil>=2.8.2 in c:\\users\\namro\\appdata\\local\\packages\\pythonsoftwarefoundation.python.3.11_qbz5n2kfra8p0\\localcache\\local-packages\\python311\\site-packages (from pandas) (2.9.0.post0)\n",
      "Requirement already satisfied: pytz>=2020.1 in c:\\users\\namro\\appdata\\local\\packages\\pythonsoftwarefoundation.python.3.11_qbz5n2kfra8p0\\localcache\\local-packages\\python311\\site-packages (from pandas) (2025.2)\n",
      "Requirement already satisfied: tzdata>=2022.7 in c:\\users\\namro\\appdata\\local\\packages\\pythonsoftwarefoundation.python.3.11_qbz5n2kfra8p0\\localcache\\local-packages\\python311\\site-packages (from pandas) (2025.2)\n",
      "Requirement already satisfied: six>=1.5 in c:\\users\\namro\\appdata\\local\\packages\\pythonsoftwarefoundation.python.3.11_qbz5n2kfra8p0\\localcache\\local-packages\\python311\\site-packages (from python-dateutil>=2.8.2->pandas) (1.16.0)\n"
     ]
    },
    {
     "name": "stderr",
     "output_type": "stream",
     "text": [
      "\n",
      "[notice] A new release of pip is available: 24.0 -> 25.1.1\n",
      "[notice] To update, run: C:\\Users\\namro\\AppData\\Local\\Microsoft\\WindowsApps\\PythonSoftwareFoundation.Python.3.11_qbz5n2kfra8p0\\python.exe -m pip install --upgrade pip\n"
     ]
    }
   ],
   "source": [
    " !pip install pandas"
   ]
  },
  {
   "cell_type": "code",
   "execution_count": null,
   "id": "5727bec3",
   "metadata": {},
   "outputs": [],
   "source": [
    "# this code reads data from your SQLite database into Pandas DataFrames using SQLAlchemy.\n",
    "\n",
    "import pandas as pd\n",
    "from sqlalchemy import create_engine # from SQLAlchemy to connect to the database\n",
    "\n",
    "# Connects to airport.db SQLite database using SQLAlchemy\n",
    "engine = create_engine('sqlite:///airport.db')\n",
    "\n",
    "# Loads the entire flights table into a a Pandas Dataframe called flights_df\n",
    "flights_df = pd.read_sql_table('flights', con=engine)\n",
    "\n",
    "# Read the passengers table into a DataFrame\n",
    "passengers_df = pd.read_sql_table('passengers', con=engine)\n",
    "\n",
    "engine.dispose()  # Close the connection to the database\n",
    "\n",
    "# You can now use flights_df and passengers_df in Python for data analysis, flitering, or visualization.\n",
    "\n",
    "# ORM stands for Object-Relational Mapping. It lets you use Python classes and objects to interact with a database — instead of writing raw SQL"
   ]
  },
  {
   "cell_type": "code",
   "execution_count": 3,
   "id": "9657673c",
   "metadata": {},
   "outputs": [
    {
     "data": {
      "text/html": [
       "<div>\n",
       "<style scoped>\n",
       "    .dataframe tbody tr th:only-of-type {\n",
       "        vertical-align: middle;\n",
       "    }\n",
       "\n",
       "    .dataframe tbody tr th {\n",
       "        vertical-align: top;\n",
       "    }\n",
       "\n",
       "    .dataframe thead th {\n",
       "        text-align: right;\n",
       "    }\n",
       "</style>\n",
       "<table border=\"1\" class=\"dataframe\">\n",
       "  <thead>\n",
       "    <tr style=\"text-align: right;\">\n",
       "      <th></th>\n",
       "      <th>flight_id</th>\n",
       "      <th>flight_number</th>\n",
       "      <th>destination</th>\n",
       "      <th>departure_time</th>\n",
       "      <th>status</th>\n",
       "    </tr>\n",
       "  </thead>\n",
       "  <tbody>\n",
       "    <tr>\n",
       "      <th>0</th>\n",
       "      <td>1</td>\n",
       "      <td>BA2490</td>\n",
       "      <td>London</td>\n",
       "      <td>2025-05-26 14:00:00</td>\n",
       "      <td>On Time</td>\n",
       "    </tr>\n",
       "    <tr>\n",
       "      <th>1</th>\n",
       "      <td>2</td>\n",
       "      <td>LH1020</td>\n",
       "      <td>Frankfurt</td>\n",
       "      <td>2025-05-26 15:30:00</td>\n",
       "      <td>Delayed</td>\n",
       "    </tr>\n",
       "    <tr>\n",
       "      <th>2</th>\n",
       "      <td>3</td>\n",
       "      <td>AF1234</td>\n",
       "      <td>Paris</td>\n",
       "      <td>2025-05-26 12:15:00</td>\n",
       "      <td>On Time</td>\n",
       "    </tr>\n",
       "    <tr>\n",
       "      <th>3</th>\n",
       "      <td>4</td>\n",
       "      <td>IB3160</td>\n",
       "      <td>Madrid</td>\n",
       "      <td>2025-05-27 09:00:00</td>\n",
       "      <td>Cancelled</td>\n",
       "    </tr>\n",
       "    <tr>\n",
       "      <th>4</th>\n",
       "      <td>5</td>\n",
       "      <td>TP1111</td>\n",
       "      <td>Lisbon</td>\n",
       "      <td>2025-05-27 11:00:00</td>\n",
       "      <td>On Time</td>\n",
       "    </tr>\n",
       "  </tbody>\n",
       "</table>\n",
       "</div>"
      ],
      "text/plain": [
       "   flight_id flight_number destination       departure_time     status\n",
       "0          1        BA2490      London  2025-05-26 14:00:00    On Time\n",
       "1          2        LH1020   Frankfurt  2025-05-26 15:30:00    Delayed\n",
       "2          3        AF1234       Paris  2025-05-26 12:15:00    On Time\n",
       "3          4        IB3160      Madrid  2025-05-27 09:00:00  Cancelled\n",
       "4          5        TP1111      Lisbon  2025-05-27 11:00:00    On Time"
      ]
     },
     "execution_count": 3,
     "metadata": {},
     "output_type": "execute_result"
    }
   ],
   "source": [
    "flights_df"
   ]
  },
  {
   "cell_type": "code",
   "execution_count": 4,
   "id": "6c4c010b",
   "metadata": {},
   "outputs": [
    {
     "data": {
      "text/html": [
       "<div>\n",
       "<style scoped>\n",
       "    .dataframe tbody tr th:only-of-type {\n",
       "        vertical-align: middle;\n",
       "    }\n",
       "\n",
       "    .dataframe tbody tr th {\n",
       "        vertical-align: top;\n",
       "    }\n",
       "\n",
       "    .dataframe thead th {\n",
       "        text-align: right;\n",
       "    }\n",
       "</style>\n",
       "<table border=\"1\" class=\"dataframe\">\n",
       "  <thead>\n",
       "    <tr style=\"text-align: right;\">\n",
       "      <th></th>\n",
       "      <th>passenger_id</th>\n",
       "      <th>name</th>\n",
       "      <th>assigned_seat</th>\n",
       "      <th>flight_id</th>\n",
       "    </tr>\n",
       "  </thead>\n",
       "  <tbody>\n",
       "    <tr>\n",
       "      <th>0</th>\n",
       "      <td>101</td>\n",
       "      <td>Alice Johnson</td>\n",
       "      <td>14A</td>\n",
       "      <td>1</td>\n",
       "    </tr>\n",
       "    <tr>\n",
       "      <th>1</th>\n",
       "      <td>102</td>\n",
       "      <td>Bob Williams</td>\n",
       "      <td>21C</td>\n",
       "      <td>2</td>\n",
       "    </tr>\n",
       "    <tr>\n",
       "      <th>2</th>\n",
       "      <td>103</td>\n",
       "      <td>Charlie Brown</td>\n",
       "      <td>None</td>\n",
       "      <td>1</td>\n",
       "    </tr>\n",
       "    <tr>\n",
       "      <th>3</th>\n",
       "      <td>104</td>\n",
       "      <td>Diana Miller</td>\n",
       "      <td>18B</td>\n",
       "      <td>3</td>\n",
       "    </tr>\n",
       "    <tr>\n",
       "      <th>4</th>\n",
       "      <td>105</td>\n",
       "      <td>Eve Davis</td>\n",
       "      <td>22F</td>\n",
       "      <td>2</td>\n",
       "    </tr>\n",
       "    <tr>\n",
       "      <th>5</th>\n",
       "      <td>106</td>\n",
       "      <td>Frank White</td>\n",
       "      <td>14B</td>\n",
       "      <td>1</td>\n",
       "    </tr>\n",
       "  </tbody>\n",
       "</table>\n",
       "</div>"
      ],
      "text/plain": [
       "   passenger_id           name assigned_seat  flight_id\n",
       "0           101  Alice Johnson           14A          1\n",
       "1           102   Bob Williams           21C          2\n",
       "2           103  Charlie Brown          None          1\n",
       "3           104   Diana Miller           18B          3\n",
       "4           105      Eve Davis           22F          2\n",
       "5           106    Frank White           14B          1"
      ]
     },
     "execution_count": 4,
     "metadata": {},
     "output_type": "execute_result"
    }
   ],
   "source": [
    "passengers_df"
   ]
  },
  {
   "cell_type": "code",
   "execution_count": null,
   "id": "e1402055",
   "metadata": {},
   "outputs": [],
   "source": [
    "# this code reads data from your SQLite database into Pandas DataFrames using SQLAlchemy.\n",
    "\n",
    "# USING sqlite3\n",
    "\n",
    "import pandas as pd\n",
    "import sqlite3\n",
    "\n",
    "# \n",
    "conn = sqlite3.connect('airport.db')  # Adjust path if needed\n",
    "\n",
    "# Read the flights table\n",
    "flights_df = pd.read_sql_query(\"SELECT * FROM flights\", conn)\n",
    "\n",
    "# Read the passengers table\n",
    "passengers_df = pd.read_sql_query(\"SELECT * FROM passengers\", conn)\n",
    "\n",
    "# Close the connection (optional but good practice)\n",
    "conn.close()"
   ]
  },
  {
   "cell_type": "code",
   "execution_count": 53,
   "id": "14f91317",
   "metadata": {},
   "outputs": [
    {
     "data": {
      "text/html": [
       "<div>\n",
       "<style scoped>\n",
       "    .dataframe tbody tr th:only-of-type {\n",
       "        vertical-align: middle;\n",
       "    }\n",
       "\n",
       "    .dataframe tbody tr th {\n",
       "        vertical-align: top;\n",
       "    }\n",
       "\n",
       "    .dataframe thead th {\n",
       "        text-align: right;\n",
       "    }\n",
       "</style>\n",
       "<table border=\"1\" class=\"dataframe\">\n",
       "  <thead>\n",
       "    <tr style=\"text-align: right;\">\n",
       "      <th></th>\n",
       "      <th>flight_id</th>\n",
       "      <th>flight_number</th>\n",
       "      <th>destination</th>\n",
       "      <th>departure_time</th>\n",
       "      <th>status</th>\n",
       "    </tr>\n",
       "  </thead>\n",
       "  <tbody>\n",
       "    <tr>\n",
       "      <th>0</th>\n",
       "      <td>1</td>\n",
       "      <td>BA2490</td>\n",
       "      <td>London</td>\n",
       "      <td>2025-05-26 14:00:00</td>\n",
       "      <td>On Time</td>\n",
       "    </tr>\n",
       "    <tr>\n",
       "      <th>1</th>\n",
       "      <td>2</td>\n",
       "      <td>LH1020</td>\n",
       "      <td>Frankfurt</td>\n",
       "      <td>2025-05-26 15:30:00</td>\n",
       "      <td>Delayed</td>\n",
       "    </tr>\n",
       "    <tr>\n",
       "      <th>2</th>\n",
       "      <td>3</td>\n",
       "      <td>AF1234</td>\n",
       "      <td>Paris</td>\n",
       "      <td>2025-05-26 12:15:00</td>\n",
       "      <td>On Time</td>\n",
       "    </tr>\n",
       "    <tr>\n",
       "      <th>3</th>\n",
       "      <td>4</td>\n",
       "      <td>IB3160</td>\n",
       "      <td>Madrid</td>\n",
       "      <td>2025-05-27 09:00:00</td>\n",
       "      <td>Cancelled</td>\n",
       "    </tr>\n",
       "    <tr>\n",
       "      <th>4</th>\n",
       "      <td>5</td>\n",
       "      <td>TP1111</td>\n",
       "      <td>Lisbon</td>\n",
       "      <td>2025-05-27 11:00:00</td>\n",
       "      <td>On Time</td>\n",
       "    </tr>\n",
       "  </tbody>\n",
       "</table>\n",
       "</div>"
      ],
      "text/plain": [
       "   flight_id flight_number destination       departure_time     status\n",
       "0          1        BA2490      London  2025-05-26 14:00:00    On Time\n",
       "1          2        LH1020   Frankfurt  2025-05-26 15:30:00    Delayed\n",
       "2          3        AF1234       Paris  2025-05-26 12:15:00    On Time\n",
       "3          4        IB3160      Madrid  2025-05-27 09:00:00  Cancelled\n",
       "4          5        TP1111      Lisbon  2025-05-27 11:00:00    On Time"
      ]
     },
     "execution_count": 53,
     "metadata": {},
     "output_type": "execute_result"
    }
   ],
   "source": [
    "flights_df"
   ]
  },
  {
   "cell_type": "code",
   "execution_count": 54,
   "id": "83cfe276",
   "metadata": {},
   "outputs": [
    {
     "data": {
      "text/html": [
       "<div>\n",
       "<style scoped>\n",
       "    .dataframe tbody tr th:only-of-type {\n",
       "        vertical-align: middle;\n",
       "    }\n",
       "\n",
       "    .dataframe tbody tr th {\n",
       "        vertical-align: top;\n",
       "    }\n",
       "\n",
       "    .dataframe thead th {\n",
       "        text-align: right;\n",
       "    }\n",
       "</style>\n",
       "<table border=\"1\" class=\"dataframe\">\n",
       "  <thead>\n",
       "    <tr style=\"text-align: right;\">\n",
       "      <th></th>\n",
       "      <th>passenger_id</th>\n",
       "      <th>name</th>\n",
       "      <th>assigned_seat</th>\n",
       "      <th>flight_id</th>\n",
       "    </tr>\n",
       "  </thead>\n",
       "  <tbody>\n",
       "    <tr>\n",
       "      <th>0</th>\n",
       "      <td>101</td>\n",
       "      <td>Alice Johnson</td>\n",
       "      <td>14A</td>\n",
       "      <td>1</td>\n",
       "    </tr>\n",
       "    <tr>\n",
       "      <th>1</th>\n",
       "      <td>102</td>\n",
       "      <td>Bob Williams</td>\n",
       "      <td>21C</td>\n",
       "      <td>2</td>\n",
       "    </tr>\n",
       "    <tr>\n",
       "      <th>2</th>\n",
       "      <td>103</td>\n",
       "      <td>Charlie Brown</td>\n",
       "      <td>None</td>\n",
       "      <td>1</td>\n",
       "    </tr>\n",
       "    <tr>\n",
       "      <th>3</th>\n",
       "      <td>104</td>\n",
       "      <td>Diana Miller</td>\n",
       "      <td>18B</td>\n",
       "      <td>3</td>\n",
       "    </tr>\n",
       "    <tr>\n",
       "      <th>4</th>\n",
       "      <td>105</td>\n",
       "      <td>Eve Davis</td>\n",
       "      <td>22F</td>\n",
       "      <td>2</td>\n",
       "    </tr>\n",
       "    <tr>\n",
       "      <th>5</th>\n",
       "      <td>106</td>\n",
       "      <td>Frank White</td>\n",
       "      <td>14B</td>\n",
       "      <td>1</td>\n",
       "    </tr>\n",
       "  </tbody>\n",
       "</table>\n",
       "</div>"
      ],
      "text/plain": [
       "   passenger_id           name assigned_seat  flight_id\n",
       "0           101  Alice Johnson           14A          1\n",
       "1           102   Bob Williams           21C          2\n",
       "2           103  Charlie Brown          None          1\n",
       "3           104   Diana Miller           18B          3\n",
       "4           105      Eve Davis           22F          2\n",
       "5           106    Frank White           14B          1"
      ]
     },
     "execution_count": 54,
     "metadata": {},
     "output_type": "execute_result"
    }
   ],
   "source": [
    "passengers_df"
   ]
  },
  {
   "cell_type": "markdown",
   "id": "52496c15",
   "metadata": {},
   "source": [
    "## 9. Resources\n",
    "\n",
    "The functions COUNT(), SUM(), AVG(), MIN(), and MAX() are the most common aggregation functions.\n",
    "\n",
    "To learn more about them and others, check out these resources:\n",
    "\n",
    "\n",
    "\n",
    "W3Schools: Provides easy-to-understand examples for SQL aggregate functions.\n",
    "\n",
    "https://www.google.com/search?q=https://www.w3schools.com/sql/sql_aggr.asp\n",
    "\n",
    "TutorialsPoint: A quick reference for SQL aggregate functions.\n",
    "\n",
    "https://www.tutorialspoint.com/sql/sql-aggregate-functions.htm\n",
    "\n",
    "---\n",
    "\n",
    "W3Schools: Learn different JOIN properties\n",
    "\n",
    "https://www.w3schools.com/sql/sql_join.asp\n",
    "\n",
    "---\n",
    "\n",
    "===> VERY IMPORTANT:\n",
    "[File Based vs SQL Lite vs SQL Alchemy](https://realpython.com/python-sqlite-sqlalchemy/)"
   ]
  },
  {
   "cell_type": "code",
   "execution_count": null,
   "id": "1b830406",
   "metadata": {},
   "outputs": [],
   "source": []
  },
  {
   "cell_type": "markdown",
   "id": "ed2d703a",
   "metadata": {},
   "source": [
    "---"
   ]
  },
  {
   "cell_type": "markdown",
   "id": "a77ebff0",
   "metadata": {},
   "source": [
    "# Home Work"
   ]
  },
  {
   "cell_type": "markdown",
   "id": "897224cd",
   "metadata": {},
   "source": [
    "Homework Exercises: Inventory System\n",
    "\n",
    "Write the Python code to solve the following problems.\n",
    "\n",
    "Inventory Database Design: Design a database named inventory.db with two tables:\n",
    "\n",
    "1. products: product_id, product_name, category, and supplier_id.\n",
    "2. suppliers: supplier_id, supplier_name, country.\n",
    "Write the Python code using sqlite3 to create these two tables and make sure to choose the data type and assign primary keys.\n",
    "\n",
    "Data Population & Analysis:\n",
    "- Create the database using SQL Alchemy and SQL Lite\n",
    "- Insert at least three suppliers and five products into the tables you created, ensuring each product has a valid supplier_id.\n",
    "- Write a Python script that uses a JOIN and GROUP BY to find the number of products supplied by each supplier.\n",
    "\n",
    "Your script should print the supplier_name and their corresponding product count."
   ]
  }
 ],
 "metadata": {
  "kernelspec": {
   "display_name": "Python 3",
   "language": "python",
   "name": "python3"
  },
  "language_info": {
   "codemirror_mode": {
    "name": "ipython",
    "version": 3
   },
   "file_extension": ".py",
   "mimetype": "text/x-python",
   "name": "python",
   "nbconvert_exporter": "python",
   "pygments_lexer": "ipython3",
   "version": "3.11.9"
  }
 },
 "nbformat": 4,
 "nbformat_minor": 5
}
