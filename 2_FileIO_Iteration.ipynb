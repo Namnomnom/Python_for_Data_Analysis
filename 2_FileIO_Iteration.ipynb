{
 "cells": [
  {
   "cell_type": "markdown",
   "id": "f8a9ce67",
   "metadata": {},
   "source": [
    "# Week 2: String Manipulation, Loops, and File Handling"
   ]
  },
  {
   "cell_type": "markdown",
   "id": "f01a7b6b",
   "metadata": {},
   "source": [
    "## 1. Quick String Manipulation"
   ]
  },
  {
   "cell_type": "code",
   "execution_count": 1,
   "id": "23cda4b5",
   "metadata": {},
   "outputs": [
    {
     "name": "stdout",
     "output_type": "stream",
     "text": [
      "Hello World\n",
      "Hello World   \n",
      "   Hello World\n"
     ]
    }
   ],
   "source": [
    "text = \"   Hello World   \"\n",
    "print(text.strip())  # Removes leading and trailing whitespace\n",
    "print(text.lstrip())  # Removes leading whitespace (entfernt nur die führenden Leerzeichen, also alles was sich links vom sichtbaren Text befindet.)\n",
    "print(text.rstrip())  # Removes trailing whitespace"
   ]
  },
  {
   "cell_type": "code",
   "execution_count": 3,
   "id": "efff2473",
   "metadata": {},
   "outputs": [
    {
     "name": "stdout",
     "output_type": "stream",
     "text": [
      "john doe\n",
      "JOHN DOE\n"
     ]
    }
   ],
   "source": [
    "name = \"John DOE\"\n",
    "print(name.lower())  # Converts all characters to lowercase\n",
    "print(name.upper())  # Converts all characters to uppercase"
   ]
  },
  {
   "cell_type": "code",
   "execution_count": 3,
   "id": "86a71502",
   "metadata": {},
   "outputs": [
    {
     "name": "stdout",
     "output_type": "stream",
     "text": [
      "first last\n"
     ]
    }
   ],
   "source": [
    "dash_text = \"first-last\"\n",
    "print(dash_text.replace(\"-\", \" \"))  # Replaces dashes with space\n"
   ]
  },
  {
   "cell_type": "code",
   "execution_count": 4,
   "id": "ae43b575",
   "metadata": {},
   "outputs": [
    {
     "name": "stdout",
     "output_type": "stream",
     "text": [
      "['John', 'Doe', '30']\n",
      "['John', 'Doe,30']\n",
      "['John,Doe,30']\n",
      "['John,Doe,30']\n"
     ]
    }
   ],
   "source": [
    "line = \"John,Doe,30\"\n",
    "print(line.split(\",\"))  # Splits string into list by comma\n",
    "print(line.split(\",\", 1))  # Splits string into list by comma, max 1 split\n",
    "print(line.splitlines())  # Splits string into list by line breaks\n",
    "\n",
    "print(line.splitlines())\n"
   ]
  },
  {
   "cell_type": "code",
   "execution_count": 7,
   "id": "13588192",
   "metadata": {},
   "outputs": [
    {
     "name": "stdout",
     "output_type": "stream",
     "text": [
      "Hello\", she said.\n",
      "\"Hello\", she said.\n",
      "Hello\", she said.\n"
     ]
    }
   ],
   "source": [
    "quote = '\"Hello\", she said.'\n",
    "print(quote.strip('\"'))  # String sieht so aus: \"Hello\", she said. / entfernt alle \" am Anfang oder Ende des String \n",
    "print(quote.strip(\"'\"))  # enthält keine ' außen (bleibt deswegen unverändert)\n",
    "print(quote.strip(\"'\").strip('\"'))  # Removes both surrounding quotes"
   ]
  },
  {
   "cell_type": "code",
   "execution_count": 10,
   "id": "a5361f9e",
   "metadata": {},
   "outputs": [
    {
     "name": "stdout",
     "output_type": "stream",
     "text": [
      "She said, \"Python is great!\"\n"
     ]
    }
   ],
   "source": [
    "# Escaping quotes inside a string\n",
    "escaped = \"She said, \\\"Python is great!\\\"\" #escape wird mit \\ genutzt. Dient dazu das Python weiß wann der String endet mit \"\n",
    "print(escaped)"
   ]
  },
  {
   "cell_type": "code",
   "execution_count": null,
   "id": "8f567fe0",
   "metadata": {},
   "outputs": [
    {
     "name": "stdout",
     "output_type": "stream",
     "text": [
      "['First line ', 'Second line', 'Third line']\n",
      "First line \n",
      "First\n"
     ]
    }
   ],
   "source": [
    "text = \"\"\"First line \n",
    "Second line\n",
    "Third line\"\"\"\n",
    "\n",
    "lines = text.splitlines() # trennt den Text in Listen und entfernt Zeilenumbruch-Zeichen wie \\n, \\r\\n, \\r\n",
    "print(lines) #gibt die ganze Liste aus\n",
    "print(lines[0])  # greift auf das erste Element zu und dieser wird ausgegeben\n",
    "\n",
    "print(lines[0].split()[0])  # die .split() Methode trennt Wörter (Wörter werden zu einer list). Leerzeichen trennen die Wörter\n",
    "\n"
   ]
  },
  {
   "cell_type": "code",
   "execution_count": 14,
   "id": "cf718925",
   "metadata": {},
   "outputs": [
    {
     "name": "stdout",
     "output_type": "stream",
     "text": [
      "First line \tSecond line\tThird line\n"
     ]
    }
   ],
   "source": [
    "joined_text = \"\\t\".join(lines) # verbindet alle Elemente der Liste zu einem einzigen String\n",
    "print(joined_text)  #  joins lines with tab character"
   ]
  },
  {
   "cell_type": "markdown",
   "id": "fe118ff8",
   "metadata": {},
   "source": [
    "## 2. Looping/Iterating in python\n",
    "**Looping** allows you to repeat a block of code multiple times. It's used when you want to process items in a list, string, dictionary, file, or repeat actions until a condition is met.\n",
    "\n",
    "Python provides two main types of loops:\n",
    "\n",
    "- `for` loop: best for **known sequences** (lists, strings, files, etc.)\n",
    "- `while` loop: repeat while a condition is True (more general-purpose)."
   ]
  },
  {
   "cell_type": "markdown",
   "id": "fb4a9039",
   "metadata": {},
   "source": [
    "###  `for` Loop: When to Use\n",
    "Use a `for` loop when you know how many items you’re iterating over and you **do not reqire manual indexing or condition management**:\n",
    "- A **list** or array\n",
    "- Characters in a **string**\n",
    "- Lines in a file or Rows in a CSV or records in JSON\n"
   ]
  },
  {
   "cell_type": "code",
   "execution_count": null,
   "id": "e3ad904a",
   "metadata": {},
   "outputs": [
    {
     "name": "stdout",
     "output_type": "stream",
     "text": [
      "h\n",
      "e\n",
      "l\n",
      "l\n",
      "o\n"
     ]
    }
   ],
   "source": [
    "# Loop over a string\n",
    "text = \"hello\"\n",
    "for char in text: #for-schleife durchläuft jedes Element (in diesem Falle alle Zeichenketten des Strings)\n",
    "    print(char)"
   ]
  },
  {
   "cell_type": "code",
   "execution_count": 17,
   "id": "efb9ee0c",
   "metadata": {},
   "outputs": [
    {
     "name": "stdout",
     "output_type": "stream",
     "text": [
      "apple\n",
      "banana\n",
      "cherry\n"
     ]
    }
   ],
   "source": [
    "# Loop over a list\n",
    "fruits = [\"apple\", \"banana\", \"cherry\"]\n",
    "for fruit in fruits: #Variable mit fruit erstellt. Geh durch jedes Element in der Liste fruits durch\n",
    "    print(fruit)"
   ]
  },
  {
   "cell_type": "code",
   "execution_count": 18,
   "id": "2fa5cbf2",
   "metadata": {},
   "outputs": [],
   "source": [
    "# given a dictionary\n",
    "person = {\"name\": \"Alice\", \"age\": 30, \"email\": \"alice@example.com\"}\n"
   ]
  },
  {
   "cell_type": "code",
   "execution_count": null,
   "id": "91b6bb61",
   "metadata": {},
   "outputs": [
    {
     "data": {
      "text/plain": [
       "dict_items([('name', 'Alice'), ('age', 30), ('email', 'alice@example.com')])"
      ]
     },
     "execution_count": 21,
     "metadata": {},
     "output_type": "execute_result"
    }
   ],
   "source": [
    "person.items()  # .items()-Methode gibt alle key-value Paare des dictionary zurück"
   ]
  },
  {
   "cell_type": "code",
   "execution_count": null,
   "id": "b8ed82eb",
   "metadata": {},
   "outputs": [
    {
     "name": "stdout",
     "output_type": "stream",
     "text": [
      "name: Alice\n",
      "age: 30\n",
      "email: alice@example.com\n"
     ]
    }
   ],
   "source": [
    "# Loop over a dictionary\n",
    "for key, value in person.items(): # zwei Variable werden definiert mit key, value\n",
    "    print(f\"{key}: {value}\") #f-string sagt Python, ersetze den Platzhalter in {} Klammern durch ihre aktuellen Werte"
   ]
  },
  {
   "cell_type": "code",
   "execution_count": null,
   "id": "4cd9d79e",
   "metadata": {},
   "outputs": [
    {
     "name": "stdout",
     "output_type": "stream",
     "text": [
      "Square of 0 is 0\n",
      "Square of 1 is 1\n",
      "Square of 2 is 4\n",
      "Square of 3 is 9\n",
      "Square of 4 is 16\n"
     ]
    }
   ],
   "source": [
    "# Loop using range()\n",
    "for i in range(5): #range()-Funktion erzeugt eine Folge von Zahlen von zB range(2, 6) =2,3,4,5 / Anfangswert inkl. & Endwert ausschließend\n",
    "    print(\"Square of\", i, \"is\", i ** 2)"
   ]
  },
  {
   "cell_type": "markdown",
   "id": "5abe2d77",
   "metadata": {},
   "source": [
    "### `while` Loop: When to Use\n",
    "Use a `while` loop when the number of iterations is unknown or controlled by a condition  rather than fixed sequence.\n",
    "\n",
    "- You need manual control over the loop index or flow\n",
    "\n",
    "- You want to skip certain cases or break early\n",
    "\n",
    "- You're looping until a specific value or condition is found\n"
   ]
  },
  {
   "cell_type": "code",
   "execution_count": 26,
   "id": "649e6e8c",
   "metadata": {},
   "outputs": [
    {
     "name": "stdout",
     "output_type": "stream",
     "text": [
      "Count: 0\n",
      "Count: 1\n",
      "Count: 2\n",
      "Count: 3\n",
      "Count: 4\n"
     ]
    }
   ],
   "source": [
    "# Using a counter\n",
    "count = 0\n",
    "while count < 5:\n",
    "    print(\"Count:\", count)\n",
    "    count += 1"
   ]
  },
  {
   "cell_type": "code",
   "execution_count": null,
   "id": "551a96bd",
   "metadata": {},
   "outputs": [
    {
     "name": "stdout",
     "output_type": "stream",
     "text": [
      "apple\n",
      "banana\n",
      "cherry\n"
     ]
    }
   ],
   "source": [
    "fruits = [\"apple\", \"banana\", \"cherry\"] #fruits enthält 3 Elemente\n",
    "i = 0\n",
    "while i < len(fruits): #durchläuft alle Elemente die kleiner als 3 sind. Von Index 0 bis 2\n",
    "    print(fruits[i])\n",
    "    i += 1"
   ]
  },
  {
   "cell_type": "code",
   "execution_count": 28,
   "id": "f7be6e84",
   "metadata": {},
   "outputs": [
    {
     "name": "stdout",
     "output_type": "stream",
     "text": [
      "count: 0\n",
      "count: 1\n",
      "count: 2\n"
     ]
    }
   ],
   "source": [
    "# Using break\n",
    "count = 0 \n",
    "while True:\n",
    "    if count == 3:\n",
    "        break       #print(\"Breaking out of the loop\")\n",
    "    print(\"count:\", count)\n",
    "    count += 1\n",
    "   "
   ]
  },
  {
   "cell_type": "code",
   "execution_count": 29,
   "id": "a35bdbb4",
   "metadata": {},
   "outputs": [
    {
     "name": "stdout",
     "output_type": "stream",
     "text": [
      "apple\n",
      "banana\n"
     ]
    }
   ],
   "source": [
    "fruits = [\"apple\", \"banana\", \"cherry\", \"orange\", \"grape\"]\n",
    "i = 0\n",
    "while True:\n",
    "    fruit = fruits[i]\n",
    "    if fruit == \"cherry\":\n",
    "        break\n",
    "    print(fruit)\n",
    "    i += 1\n"
   ]
  },
  {
   "cell_type": "code",
   "execution_count": 31,
   "id": "b96767ed",
   "metadata": {},
   "outputs": [
    {
     "name": "stdout",
     "output_type": "stream",
     "text": [
      "count: 1\n",
      "count: 2\n",
      "count: 4\n",
      "count: 5\n"
     ]
    }
   ],
   "source": [
    "# Using continue\n",
    "count = 0\n",
    "while count < 5:\n",
    "    count += 1\n",
    "    if count == 3:\n",
    "        continue # continue sorgt dafür, dass print() nicht ausgeführt wird, wenn count == 3 ist\n",
    "    print(\"count:\", count)"
   ]
  },
  {
   "cell_type": "markdown",
   "id": "5c88693b",
   "metadata": {},
   "source": [
    "## 3. File Handling\n"
   ]
  },
  {
   "cell_type": "markdown",
   "id": "4d7c6fc4",
   "metadata": {},
   "source": [
    "### Understanding CSV and JSON Formats"
   ]
  },
  {
   "cell_type": "markdown",
   "id": "70351aaf",
   "metadata": {},
   "source": [
    "### CSV: Comma-Separated Values\n",
    "| Aspect | Description |\n",
    "|--------|-------------|\n",
    "| **What** | A plain text format where each line is a row, and values are separated by a delimiter (commonly a comma). |\n",
    "| **When** | Use for simple, tabular data like spreadsheets, logs, or database exports. |\n",
    "| **Why** | Lightweight, easy to process, supported by many tools including Excel and Python's `csv` module. |"
   ]
  },
  {
   "cell_type": "code",
   "execution_count": 69,
   "id": "1b2bdcad",
   "metadata": {},
   "outputs": [],
   "source": [
    "import csv\n",
    "\n",
    "# Writing to a real CSV file\n",
    "sample_data = [ # erstelle eine Liste von Listen. Jede innere Liste ist eine Zeile\n",
    "    [\"name\", \"age\", \"city\"], # erste Zeile der Liste ist die Überschrift\n",
    "    [\"John\", 25, \"Berlin\"],\n",
    "    [\"Anna\", 30, \"Hamburg\"],\n",
    "    [\"Mike\", 22, \"Munich\"],\n",
    "    [\"Sara\", 27, \"Cologne\"],\n",
    "    [\"Leo\", 35, \"Frankfurt\"]\n",
    "]\n",
    "# newline verhindert zusätzliche Leerzeilen zwischen den Zeilen / utf-8 sorgt dafür das Umlaute (ü,ö) oder Sonderzeichen (-,ß) korrekt angezeigt werden\n",
    "with open(\"sample.csv\", \"w\", newline='', encoding=\"utf-8\") as f: #öffne bzw. erstelle eine Datei namens sample.csv \n",
    "    writer = csv.writer(f, delimiter=\"-\")\n",
    "    writer.writerows(sample_data) # writerows() schreibt alle Zeilen aus der Liste sample_data in die Datei\n"
   ]
  },
  {
   "cell_type": "code",
   "execution_count": 70,
   "id": "0e3cca42",
   "metadata": {},
   "outputs": [
    {
     "name": "stdout",
     "output_type": "stream",
     "text": [
      "<_csv.reader object at 0x000001FCA9185AE0>\n"
     ]
    }
   ],
   "source": [
    "#  Read from the real CSV file\n",
    "with open(\"sample.csv\", \"r\", encoding=\"utf-8\") as f: # öffne die Datei sample.csv zum Lesen und nenne sie f\n",
    "    reader = csv.reader(f) # Datei wird gelesen Zeile für Zeile. Jede Zeile wird in eine Liste von Werten umgewandelt\n",
    "    print(reader) # Hinweis das reader ein CSV-Objekt ist (zeigt nicht den Inhalt der Datei)"
   ]
  },
  {
   "cell_type": "code",
   "execution_count": 72,
   "id": "39167ad8",
   "metadata": {},
   "outputs": [
    {
     "name": "stdout",
     "output_type": "stream",
     "text": [
      "['name-age-city']\n",
      "['John-25-Berlin']\n",
      "['Anna-30-Hamburg']\n",
      "['Mike-22-Munich']\n",
      "['Sara-27-Cologne']\n",
      "['Leo-35-Frankfurt']\n"
     ]
    }
   ],
   "source": [
    "# Read from the real CSV file\n",
    "with open(\"sample.csv\", \"r\", encoding=\"utf-8\") as f: # öffne die Datei sample.csv zum Lesen und nenne sie f\n",
    "    reader = csv.reader(f) # Macht einen CSV-Leser daraus. Datei wird Zeile für Zeile gelesen \n",
    "    for row in reader: # geht jede Zeile durch \n",
    "        print(row) # gibt jede Zeile als Liste von Werten aus\n"
   ]
  },
  {
   "cell_type": "code",
   "execution_count": 73,
   "id": "ce9aa959",
   "metadata": {},
   "outputs": [
    {
     "name": "stdout",
     "output_type": "stream",
     "text": [
      "['name-age-city']\n"
     ]
    }
   ],
   "source": [
    "#  Read from the real CSV file\n",
    "with open(\"sample.csv\", \"r\", encoding=\"utf-8\") as f:\n",
    "    reader = csv.reader(f)\n",
    "    #read and print the first row\n",
    "    header = next(reader) #next-function gibt immer die nächste Zeile zurück. Wenn es nach dem Einlesen der Datei verwendet wird, kommt die erste Zeile\n",
    "    print(header)\n",
    "\n"
   ]
  },
  {
   "cell_type": "code",
   "execution_count": 93,
   "id": "c2d82e69",
   "metadata": {},
   "outputs": [
    {
     "name": "stdout",
     "output_type": "stream",
     "text": [
      "['name,age,city']\n",
      "['John,25,Berlin']\n",
      "['Anna,30,Hamburg']\n",
      "['Mike,22,Munich']\n",
      "['Sara,27,Cologne']\n",
      "['Leo,35,Frankfurt']\n",
      "['Tom,28,Stuttgart']\n",
      "['Emma,32,Düsseldorf']\n",
      "['Liam,29,Stuttgart']\n",
      "['Olivia,31,Hmaburg']\n"
     ]
    }
   ],
   "source": [
    "# Read from the real CSV file\n",
    "with open(\"sample.csv\", \"r\", encoding=\"utf-8\") as f:\n",
    "    reader = csv.reader(f, delimiter=\"-\") #erstellt ein CSV-Reader-Objekt, das die Datei f zeilenweise liest / Daten in der Datei sind mit - getrennt\n",
    "    for row in reader: # liest jede Zeile aus der Datei\n",
    "        print(row)\n"
   ]
  },
  {
   "cell_type": "code",
   "execution_count": 94,
   "id": "34f705d5",
   "metadata": {},
   "outputs": [],
   "source": [
    "# Writing to a real CSV file\n",
    "sample_data = [\n",
    "    [\"name\", \"age\", \"city\"],\n",
    "    [\"John\", 25, \"Berlin\"],\n",
    "    [\"Anna\", 30, \"Hamburg\"],\n",
    "    [\"Mike\", 22, \"Munich\"],\n",
    "    [\"Sara\", 27, \"Cologne\"],\n",
    "    [\"Leo\", 35, \"Frankfurt\"]\n",
    "]\n",
    "\n",
    "with open(\"sample.csv\", \"w\", newline='', encoding=\"utf-8\") as f:\n",
    "    writer = csv.writer(f, delimiter=\",\")\n",
    "    writer.writerows(sample_data) #schreibt alle Zeilen aus der Liste sample_data in die CSV-Datei\n"
   ]
  },
  {
   "cell_type": "code",
   "execution_count": 95,
   "id": "4353c0f1",
   "metadata": {},
   "outputs": [],
   "source": [
    "#add more rows to the dataset\n",
    "with open(\"sample.csv\", \"a\", newline='', encoding=\"utf-8\") as f:\n",
    "    writer = csv.writer(f, delimiter=\",\")\n",
    "    writer.writerow([\"Tom\", 28, \"Stuttgart\"]) # writerows() ist eine Methode von csv.writer und schreibt die Zeile in die Datei\n",
    "    writer.writerow([\"Emma\", 32, \"Düsseldorf\"])\n",
    "    writer.writerow([\"Liam\", 29, \"Stuttgart\"])\n",
    "    writer.writerow([\"Olivia\", 31, \"Hmaburg\"])\n",
    "    "
   ]
  },
  {
   "cell_type": "code",
   "execution_count": 96,
   "id": "f02ff744",
   "metadata": {},
   "outputs": [
    {
     "name": "stdout",
     "output_type": "stream",
     "text": [
      "Berlin\n",
      "Hamburg\n",
      "Munich\n",
      "Cologne\n",
      "Frankfurt\n",
      "Stuttgart\n",
      "Düsseldorf\n",
      "Stuttgart\n",
      "Hmaburg\n"
     ]
    }
   ],
   "source": [
    "#read column city\n",
    "with open(\"sample.csv\", \"r\", encoding=\"utf-8\") as f:\n",
    "    next(f) # mit next() wird nur die erste Zeile gelesen aber nicht verwendet. überspringt die erste Zeile der Datei ([]\"name\", \"age\", \"city\"])\n",
    "    reader = csv.reader(f)\n",
    "    for row in reader:\n",
    "        print(row[2])  # gibt nur das dritte Element jeder Zeile aus\n",
    "        \n",
    "        "
   ]
  },
  {
   "cell_type": "code",
   "execution_count": 97,
   "id": "c2a54e66",
   "metadata": {},
   "outputs": [
    {
     "name": "stdout",
     "output_type": "stream",
     "text": [
      "Munich\n"
     ]
    }
   ],
   "source": [
    "#read column city\n",
    "with open(\"sample.csv\", \"r\", encoding=\"utf-8\") as f:\n",
    "    next(f)\n",
    "    reader = csv.reader(f)\n",
    "    for row in reader:\n",
    "        #read 3rd row\n",
    "        if reader.line_num == 3:\n",
    "            print(row[2])"
   ]
  },
  {
   "cell_type": "code",
   "execution_count": 98,
   "id": "d3c9da04",
   "metadata": {},
   "outputs": [
    {
     "name": "stdout",
     "output_type": "stream",
     "text": [
      "{'name': 'John', 'age': '25', 'city': 'Berlin'}\n",
      "{'name': 'Anna', 'age': '30', 'city': 'Hamburg'}\n",
      "{'name': 'Mike', 'age': '22', 'city': 'Munich'}\n",
      "{'name': 'Sara', 'age': '27', 'city': 'Cologne'}\n",
      "{'name': 'Leo', 'age': '35', 'city': 'Frankfurt'}\n",
      "{'name': 'Tom', 'age': '28', 'city': 'Stuttgart'}\n",
      "{'name': 'Emma', 'age': '32', 'city': 'Düsseldorf'}\n",
      "{'name': 'Liam', 'age': '29', 'city': 'Stuttgart'}\n",
      "{'name': 'Olivia', 'age': '31', 'city': 'Hmaburg'}\n"
     ]
    }
   ],
   "source": [
    "\n",
    "# Read with DictReader\n",
    "with open(\"sample.csv\", \"r\", encoding=\"utf-8\") as f:\n",
    "    reader = csv.DictReader(f)\n",
    "    for row in reader:\n",
    "        print(row)"
   ]
  },
  {
   "cell_type": "code",
   "execution_count": 99,
   "id": "9edd2754",
   "metadata": {},
   "outputs": [],
   "source": [
    "# using DictWriter\n",
    "with open(\"sample.csv\", \"w\", newline='', encoding=\"utf-8\") as f:\n",
    "    fieldnames = [\"name\", \"age\", \"city\"]\n",
    "    writer = csv.DictWriter(f, fieldnames=fieldnames)\n",
    "    writer.writeheader()\n",
    "    writer.writerow({\"name\": \"John\", \"age\": 25, \"city\": \"Berlin\"})\n",
    "    writer.writerow({\"name\": \"Anna\", \"age\": 30, \"city\": \"Hamburg\"})\n",
    "    writer.writerow({\"name\": \"Mike\", \"age\": 22, \"city\": \"Munich\"})"
   ]
  },
  {
   "cell_type": "code",
   "execution_count": null,
   "id": "8b0aa432",
   "metadata": {},
   "outputs": [
    {
     "name": "stdout",
     "output_type": "stream",
     "text": [
      "John is 25 years old.\n",
      "Anna is 30 years old.\n",
      "Mike is 22 years old.\n"
     ]
    }
   ],
   "source": [
    "\n",
    "# Read with DictReader\n",
    "with open(\"sample.csv\", \"r\", encoding=\"utf-8\") as f:\n",
    "    reader = csv.DictReader(f) #liest die CSV-Datei aber jede Zeile wird als dictionary gelesen. Spaltenüberschrift wird zum key\n",
    "    for row in reader:\n",
    "        print(f\"{row['name']} is {row['age']} years old.\")"
   ]
  },
  {
   "cell_type": "markdown",
   "id": "34e55d96",
   "metadata": {},
   "source": [
    "###  JSON: JavaScript Object Notation\n",
    "| Aspect | Description |\n",
    "|--------|-------------|\n",
    "| **What** | A structured format using key-value pairs and arrays; similar to Python dictionaries and lists. |\n",
    "| **When** | Use for nested or hierarchical data such as configuration files, API responses, or user profiles. |\n",
    "| **Why** | Human-readable, flexible, and widely used for data exchange — easily maps to Python objects using `json` module. |"
   ]
  },
  {
   "cell_type": "code",
   "execution_count": null,
   "id": "39efec80",
   "metadata": {},
   "outputs": [
    {
     "name": "stdout",
     "output_type": "stream",
     "text": [
      "Bob knows Python, SQL\n"
     ]
    }
   ],
   "source": [
    "import json\n",
    "json_text = '{\"name\": \"Bob\", \"age\": 28, \"skills\": [\"Python\", \"SQL\"]}' # json-text der wie ein dictionary aussieht\n",
    "data = json.loads(json_text) # json.loads() wandelt json-text in python-dictionary um\n",
    "print(data[\"name\"], \"knows\", \", \".join(data[\"skills\"]))"
   ]
  },
  {
   "cell_type": "markdown",
   "id": "b3c05942",
   "metadata": {},
   "source": [
    "### Writing JSON and Parsing Nested JSON"
   ]
  },
  {
   "cell_type": "code",
   "execution_count": null,
   "id": "431adbd9",
   "metadata": {},
   "outputs": [
    {
     "name": "stdout",
     "output_type": "stream",
     "text": [
      "{\n",
      "    \"name\": \"Sara\",\n",
      "    \"age\": 27,\n",
      "    \"email\": \"sara@example.com\",\n",
      "    \"skills\": [\n",
      "        \"Python\",\n",
      "        \"Data Analysis\"\n",
      "    ]\n",
      "}\n"
     ]
    }
   ],
   "source": [
    "# Writing Python object to JSON\n",
    "user_profile = {\n",
    "    \"name\": \"Sara\",\n",
    "    \"age\": 27,\n",
    "    \"email\": \"sara@example.com\",\n",
    "    \"skills\": [\"Python\", \"Data Analysis\"]\n",
    "}\n",
    "\n",
    "json_str = json.dumps(user_profile, indent=4) #json.dumbs() wandelt das dictionary in einen json-string um / \n",
    "print(json_str) #indent macht Json-text lesbarer"
   ]
  },
  {
   "cell_type": "code",
   "execution_count": 109,
   "id": "dafde1c2",
   "metadata": {},
   "outputs": [
    {
     "name": "stdout",
     "output_type": "stream",
     "text": [
      "Ali is 24 years old.\n",
      "Zara is 29 years old.\n"
     ]
    }
   ],
   "source": [
    "# Parsing nested JSON\n",
    "complex_json = '''\n",
    "{\n",
    "    \"users\": [\n",
    "        {\"name\": \"Ali\", \"age\": 24},\n",
    "        {\"name\": \"Zara\", \"age\": 29}\n",
    "    ]\n",
    "}\n",
    "'''\n",
    "data = json.loads(complex_json)\n",
    "for user in data[\"users\"]:\n",
    "    print(f\"{user['name']} is {user['age']} years old.\")"
   ]
  },
  {
   "cell_type": "code",
   "execution_count": 110,
   "id": "c5ef1d8d",
   "metadata": {},
   "outputs": [
    {
     "name": "stdout",
     "output_type": "stream",
     "text": [
      "users.json file written.\n"
     ]
    }
   ],
   "source": [
    "import json\n",
    "\n",
    "# Writing a JSON file\n",
    "user_profiles = [\n",
    "    {\"name\": \"Ali\", \"age\": 24, \"email\": \"ali@example.com\"},\n",
    "    {\"name\": \"Zara\", \"age\": 29, \"email\": \"zara@example.com\"},\n",
    "    {\"name\": \"Bob\", \"age\": 32, \"email\": \"bob@example.com\"}\n",
    "]\n",
    "\n",
    "with open(\"users.json\", \"w\", encoding=\"utf-8\") as f:\n",
    "    json.dump(user_profiles, f, indent=4)\n",
    "\n",
    "print(\"users.json file written.\")"
   ]
  },
  {
   "cell_type": "code",
   "execution_count": 111,
   "id": "825096f2",
   "metadata": {},
   "outputs": [
    {
     "name": "stdout",
     "output_type": "stream",
     "text": [
      "Ali is 24 years old.\n",
      "Zara is 29 years old.\n",
      "Bob is 32 years old.\n"
     ]
    }
   ],
   "source": [
    "# Reading and parsing JSON file\n",
    "with open(\"users.json\", \"r\", encoding=\"utf-8\") as f:\n",
    "    users = json.load(f)\n",
    "\n",
    "for user in users:\n",
    "    print(f\"{user['name']} is {user['age']} years old.\")"
   ]
  },
  {
   "cell_type": "code",
   "execution_count": null,
   "id": "5af0d998",
   "metadata": {},
   "outputs": [
    {
     "name": "stdout",
     "output_type": "stream",
     "text": [
      "Updated users_with_status.json created.\n"
     ]
    }
   ],
   "source": [
    "# Add new field and write to new file\n",
    "for user in users:\n",
    "    user[\"active\"] = True\n",
    "\n",
    "with open(\"users_with_status.json\", \"w\", encoding=\"utf-8\") as f:\n",
    "    json.dump(users, f, indent=4) #speichert die Liste als JSN-Datei namens users.json\n",
    "\n",
    "print(\"Updated users_with_status.json created.\")\n"
   ]
  }
 ],
 "metadata": {
  "kernelspec": {
   "display_name": "Python 3",
   "language": "python",
   "name": "python3"
  },
  "language_info": {
   "codemirror_mode": {
    "name": "ipython",
    "version": 3
   },
   "file_extension": ".py",
   "mimetype": "text/x-python",
   "name": "python",
   "nbconvert_exporter": "python",
   "pygments_lexer": "ipython3",
   "version": "3.11.9"
  }
 },
 "nbformat": 4,
 "nbformat_minor": 5
}
